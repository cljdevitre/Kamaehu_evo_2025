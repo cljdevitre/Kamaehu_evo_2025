{
 "cells": [
  {
   "cell_type": "code",
   "execution_count": 2,
   "metadata": {},
   "outputs": [],
   "source": [
    "import pandas as pd\n",
    "import numpy as np\n",
    "import matplotlib.pyplot as plt\n",
    "import mineralML as mm\n",
    "import Thermobar as pt\n",
    "import os\n"
   ]
  },
  {
   "cell_type": "code",
   "execution_count": 3,
   "metadata": {},
   "outputs": [
    {
     "data": {
      "text/plain": [
       "'0.0.0.5'"
      ]
     },
     "execution_count": 3,
     "metadata": {},
     "output_type": "execute_result"
    }
   ],
   "source": [
    "mm.__version__"
   ]
  },
  {
   "cell_type": "code",
   "execution_count": 4,
   "metadata": {},
   "outputs": [
    {
     "data": {
      "text/plain": [
       "'1.0.49'"
      ]
     },
     "execution_count": 4,
     "metadata": {},
     "output_type": "execute_result"
    }
   ],
   "source": [
    "pt.__version__"
   ]
  },
  {
   "cell_type": "markdown",
   "metadata": {},
   "source": [
    "## To extract data"
   ]
  },
  {
   "cell_type": "code",
   "execution_count": 6,
   "metadata": {},
   "outputs": [
    {
     "data": {
      "text/html": [
       "<div>\n",
       "<style scoped>\n",
       "    .dataframe tbody tr th:only-of-type {\n",
       "        vertical-align: middle;\n",
       "    }\n",
       "\n",
       "    .dataframe tbody tr th {\n",
       "        vertical-align: top;\n",
       "    }\n",
       "\n",
       "    .dataframe thead th {\n",
       "        text-align: right;\n",
       "    }\n",
       "</style>\n",
       "<table border=\"1\" class=\"dataframe\">\n",
       "  <thead>\n",
       "    <tr style=\"text-align: right;\">\n",
       "      <th></th>\n",
       "      <th>Sample Name</th>\n",
       "      <th>Total_wt%</th>\n",
       "      <th>Total_Oxide%</th>\n",
       "      <th>CaO</th>\n",
       "      <th>Cr2O3</th>\n",
       "      <th>FeOt</th>\n",
       "      <th>MgO</th>\n",
       "      <th>MnO</th>\n",
       "      <th>NiO</th>\n",
       "      <th>SiO2</th>\n",
       "      <th>...</th>\n",
       "      <th>#_ions__O</th>\n",
       "      <th>#_ions__Mg</th>\n",
       "      <th>#_ions__Si</th>\n",
       "      <th>#_ions__Ca</th>\n",
       "      <th>#_ions__Cr</th>\n",
       "      <th>#_ions__Mn</th>\n",
       "      <th>#_ions__Fe</th>\n",
       "      <th>#_ions__Ni</th>\n",
       "      <th>SampleID</th>\n",
       "      <th>Date</th>\n",
       "    </tr>\n",
       "  </thead>\n",
       "  <tbody>\n",
       "    <tr>\n",
       "      <th>0</th>\n",
       "      <td>AMG_XEN4_ol3</td>\n",
       "      <td>100.0536</td>\n",
       "      <td>100.0536</td>\n",
       "      <td>0.2192</td>\n",
       "      <td>0.0426</td>\n",
       "      <td>11.9042</td>\n",
       "      <td>46.9345</td>\n",
       "      <td>0.1514</td>\n",
       "      <td>0.4101</td>\n",
       "      <td>40.3916</td>\n",
       "      <td>...</td>\n",
       "      <td>2</td>\n",
       "      <td>0.87</td>\n",
       "      <td>0.5</td>\n",
       "      <td>0.00</td>\n",
       "      <td>0</td>\n",
       "      <td>0</td>\n",
       "      <td>0.12</td>\n",
       "      <td>0</td>\n",
       "      <td>AMG_XEN4_ol3</td>\n",
       "      <td>Nov1_2024</td>\n",
       "    </tr>\n",
       "    <tr>\n",
       "      <th>1</th>\n",
       "      <td>AMG_XEN4_ol3_WDS</td>\n",
       "      <td>100.0124</td>\n",
       "      <td>100.0124</td>\n",
       "      <td>0.2192</td>\n",
       "      <td>0.0426</td>\n",
       "      <td>11.9054</td>\n",
       "      <td>46.9202</td>\n",
       "      <td>0.1514</td>\n",
       "      <td>0.3858</td>\n",
       "      <td>40.3877</td>\n",
       "      <td>...</td>\n",
       "      <td>2</td>\n",
       "      <td>0.87</td>\n",
       "      <td>0.5</td>\n",
       "      <td>0.00</td>\n",
       "      <td>0</td>\n",
       "      <td>0</td>\n",
       "      <td>0.12</td>\n",
       "      <td>0</td>\n",
       "      <td>AMG_XEN4_ol3_WDS</td>\n",
       "      <td>Nov1_2024</td>\n",
       "    </tr>\n",
       "    <tr>\n",
       "      <th>2</th>\n",
       "      <td>KA611_c217_MIA_ol3</td>\n",
       "      <td>99.7586</td>\n",
       "      <td>99.7586</td>\n",
       "      <td>0.4559</td>\n",
       "      <td>0.0296</td>\n",
       "      <td>13.9559</td>\n",
       "      <td>45.0261</td>\n",
       "      <td>0.2040</td>\n",
       "      <td>0.2949</td>\n",
       "      <td>39.7923</td>\n",
       "      <td>...</td>\n",
       "      <td>2</td>\n",
       "      <td>0.84</td>\n",
       "      <td>0.5</td>\n",
       "      <td>0.01</td>\n",
       "      <td>0</td>\n",
       "      <td>0</td>\n",
       "      <td>0.15</td>\n",
       "      <td>0</td>\n",
       "      <td>KA611_c217_MIA_ol3</td>\n",
       "      <td>Nov1_2024</td>\n",
       "    </tr>\n",
       "    <tr>\n",
       "      <th>3</th>\n",
       "      <td>KA611_c217_MIA_ol3_WDS</td>\n",
       "      <td>99.7646</td>\n",
       "      <td>99.7646</td>\n",
       "      <td>0.4559</td>\n",
       "      <td>0.0296</td>\n",
       "      <td>13.9557</td>\n",
       "      <td>45.0281</td>\n",
       "      <td>0.2040</td>\n",
       "      <td>0.2985</td>\n",
       "      <td>39.7929</td>\n",
       "      <td>...</td>\n",
       "      <td>2</td>\n",
       "      <td>0.84</td>\n",
       "      <td>0.5</td>\n",
       "      <td>0.01</td>\n",
       "      <td>0</td>\n",
       "      <td>0</td>\n",
       "      <td>0.15</td>\n",
       "      <td>0</td>\n",
       "      <td>KA611_c217_MIA_ol3_WDS</td>\n",
       "      <td>Nov1_2024</td>\n",
       "    </tr>\n",
       "    <tr>\n",
       "      <th>4</th>\n",
       "      <td>KA69_c201_MI1_ol3</td>\n",
       "      <td>99.4246</td>\n",
       "      <td>99.4246</td>\n",
       "      <td>0.3633</td>\n",
       "      <td>0.0434</td>\n",
       "      <td>15.7002</td>\n",
       "      <td>43.5743</td>\n",
       "      <td>0.2265</td>\n",
       "      <td>0.1520</td>\n",
       "      <td>39.3650</td>\n",
       "      <td>...</td>\n",
       "      <td>2</td>\n",
       "      <td>0.82</td>\n",
       "      <td>0.5</td>\n",
       "      <td>0.00</td>\n",
       "      <td>0</td>\n",
       "      <td>0</td>\n",
       "      <td>0.17</td>\n",
       "      <td>0</td>\n",
       "      <td>KA69_c201_MI1_ol3</td>\n",
       "      <td>Nov1_2024</td>\n",
       "    </tr>\n",
       "  </tbody>\n",
       "</table>\n",
       "<p>5 rows × 112 columns</p>\n",
       "</div>"
      ],
      "text/plain": [
       "              Sample Name  Total_wt%  Total_Oxide%     CaO   Cr2O3     FeOt  \\\n",
       "0            AMG_XEN4_ol3   100.0536      100.0536  0.2192  0.0426  11.9042   \n",
       "1        AMG_XEN4_ol3_WDS   100.0124      100.0124  0.2192  0.0426  11.9054   \n",
       "2      KA611_c217_MIA_ol3    99.7586       99.7586  0.4559  0.0296  13.9559   \n",
       "3  KA611_c217_MIA_ol3_WDS    99.7646       99.7646  0.4559  0.0296  13.9557   \n",
       "4       KA69_c201_MI1_ol3    99.4246       99.4246  0.3633  0.0434  15.7002   \n",
       "\n",
       "       MgO     MnO     NiO     SiO2  ...  #_ions__O  #_ions__Mg  #_ions__Si  \\\n",
       "0  46.9345  0.1514  0.4101  40.3916  ...          2        0.87         0.5   \n",
       "1  46.9202  0.1514  0.3858  40.3877  ...          2        0.87         0.5   \n",
       "2  45.0261  0.2040  0.2949  39.7923  ...          2        0.84         0.5   \n",
       "3  45.0281  0.2040  0.2985  39.7929  ...          2        0.84         0.5   \n",
       "4  43.5743  0.2265  0.1520  39.3650  ...          2        0.82         0.5   \n",
       "\n",
       "   #_ions__Ca  #_ions__Cr  #_ions__Mn  #_ions__Fe  #_ions__Ni  \\\n",
       "0        0.00           0           0        0.12           0   \n",
       "1        0.00           0           0        0.12           0   \n",
       "2        0.01           0           0        0.15           0   \n",
       "3        0.01           0           0        0.15           0   \n",
       "4        0.00           0           0        0.17           0   \n",
       "\n",
       "                 SampleID       Date  \n",
       "0            AMG_XEN4_ol3  Nov1_2024  \n",
       "1        AMG_XEN4_ol3_WDS  Nov1_2024  \n",
       "2      KA611_c217_MIA_ol3  Nov1_2024  \n",
       "3  KA611_c217_MIA_ol3_WDS  Nov1_2024  \n",
       "4       KA69_c201_MI1_ol3  Nov1_2024  \n",
       "\n",
       "[5 rows x 112 columns]"
      ]
     },
     "execution_count": 6,
     "metadata": {},
     "output_type": "execute_result"
    }
   ],
   "source": [
    "result = pt.process_excel_file(os.path.join(os.getcwd(),'Kam_Nov1st_EDS.xlsx'), sheet_name=\"Olivines_KAMI1\")\n",
    "sorted_df = pt.sort_columns(result)\n",
    "sorted_df['SampleID']=sorted_df['Sample Name']\n",
    "sorted_df['Date']='Nov1_2024'\n",
    "sorted_df.to_clipboard(excel=True)\n",
    "sorted_df.head()\n"
   ]
  },
  {
   "cell_type": "code",
   "execution_count": null,
   "metadata": {},
   "outputs": [],
   "source": [
    "\n",
    "\n"
   ]
  },
  {
   "cell_type": "markdown",
   "metadata": {},
   "source": [
    "## Now run through mineral ML"
   ]
  },
  {
   "cell_type": "code",
   "execution_count": 7,
   "metadata": {},
   "outputs": [],
   "source": [
    "df_final=pt.minClass(sorted_df)"
   ]
  },
  {
   "cell_type": "markdown",
   "metadata": {},
   "source": [
    "## Extract standards and paste into this sheet - \n",
    " https://docs.google.com/spreadsheets/d/1V6m2yhYWO6vrLcbZ-0ccXu5zADcnHxmloiOhQwrKl8U/edit?usp=sharing"
   ]
  },
  {
   "cell_type": "code",
   "execution_count": 8,
   "metadata": {},
   "outputs": [],
   "source": [
    "# Put your name and analysis date here - if it spans multiple days in a single sesion, dont worry, the first day is fine, your standards should be named mon_morn, mon_afternoon etc. anyway. \n",
    "PersonName='Charlotte'\n",
    "AnalysisDate='10/4/2024'"
   ]
  },
  {
   "cell_type": "markdown",
   "metadata": {},
   "source": [
    "## For each standard, write the Name, and also the string in your name 'e.g. if your san carlos are called SC, you would put StdString 'SC'\n",
    "- Copy and paste these cells for as many standards as you have - p.s. right now, only works for silicates, I need to format for Other oxides. "
   ]
  },
  {
   "cell_type": "code",
   "execution_count": 9,
   "metadata": {},
   "outputs": [
    {
     "data": {
      "text/plain": [
       "array(['AMG_XEN4_ol3', 'AMG_XEN4_ol3_WDS', 'KA611_c217_MIA_ol3',\n",
       "       'KA611_c217_MIA_ol3_WDS', 'KA69_c201_MI1_ol3',\n",
       "       'KA69_c201_MI1_ol3_WDS', 'KA71_c201_MI1_ol3',\n",
       "       'KA71_c201_MI1_ol3_WDS', 'KA71_c213_MI2_ol3',\n",
       "       'KA71_c213_MI2_ol3_WDS', 'KA71_c204_MI1_ol3',\n",
       "       'KA71_c204_MI1_ol3_WDS', 'KA71_c215_MI1_ol3',\n",
       "       'KA71_c215_MI1_ol3_WDS', 'KA78_c101_MIA_ol3',\n",
       "       'KA78_c101_MIA_ol3_WDS', 'KA69_c205_MIB_ol3',\n",
       "       'KA69_c205_MIB_ol3_WDS', 'KA79_c222_MIA_ol3',\n",
       "       'KA79_c222_MIA_ol3_WDS', 'KA71_c204_MI1_ol4_away',\n",
       "       'KA71_c204_MI1_ol4_away_WDS', 'KA71_c204_MI1_ol5_inner',\n",
       "       'KA71_c204_MI1_ol5_inner_WDS'], dtype=object)"
      ]
     },
     "execution_count": 9,
     "metadata": {},
     "output_type": "execute_result"
    }
   ],
   "source": [
    "df_final['SampleID'].unique()"
   ]
  },
  {
   "cell_type": "code",
   "execution_count": 10,
   "metadata": {},
   "outputs": [
    {
     "data": {
      "text/html": [
       "<div>\n",
       "<style scoped>\n",
       "    .dataframe tbody tr th:only-of-type {\n",
       "        vertical-align: middle;\n",
       "    }\n",
       "\n",
       "    .dataframe tbody tr th {\n",
       "        vertical-align: top;\n",
       "    }\n",
       "\n",
       "    .dataframe thead th {\n",
       "        text-align: right;\n",
       "    }\n",
       "</style>\n",
       "<table border=\"1\" class=\"dataframe\">\n",
       "  <thead>\n",
       "    <tr style=\"text-align: right;\">\n",
       "      <th></th>\n",
       "      <th>AnalysisDate</th>\n",
       "      <th>PersonName</th>\n",
       "      <th>SampleID</th>\n",
       "      <th>Total_Oxide%</th>\n",
       "      <th>MgO</th>\n",
       "      <th>SiO2</th>\n",
       "      <th>TiO2</th>\n",
       "      <th>Al2O3</th>\n",
       "      <th>CaO</th>\n",
       "      <th>MnO</th>\n",
       "      <th>...</th>\n",
       "      <th>Standard Name_K</th>\n",
       "      <th>Standardization Date_K</th>\n",
       "      <th>Standard Name_Fe</th>\n",
       "      <th>Standardization Date_Fe</th>\n",
       "      <th>Standard Name_Ni</th>\n",
       "      <th>Standardization Date_Ni</th>\n",
       "      <th>Standard Name_S</th>\n",
       "      <th>Standardization Date_S</th>\n",
       "      <th>Standard Name_Cr</th>\n",
       "      <th>Standardization Date_Cr</th>\n",
       "    </tr>\n",
       "  </thead>\n",
       "  <tbody>\n",
       "  </tbody>\n",
       "</table>\n",
       "<p>0 rows × 69 columns</p>\n",
       "</div>"
      ],
      "text/plain": [
       "Empty DataFrame\n",
       "Columns: [AnalysisDate, PersonName, SampleID, Total_Oxide%, MgO, SiO2, TiO2, Al2O3, CaO, MnO, P2O5, Na2O, K2O, FeOt, NiO, SO3, Cr2O3, MgO_norm, SiO2_norm, TiO2_norm, Al2O3_norm, CaO_norm, MnO_norm, P2O5_norm, Na2O_norm, K2O_norm, FeOt_norm, NiO_norm, SO3_norm, Cr2O3_norm, Oxide % Sigma_MgO, Oxide % Sigma_SiO2, Oxide % Sigma_TiO2, Oxide % Sigma_Al2O3, Oxide % Sigma_CaO, Oxide % Sigma_MnO, Oxide % Sigma_P2O5, Oxide % Sigma_Na2O, Oxide % Sigma_K2O, Oxide % Sigma_FeOt, Oxide % Sigma_NiO, Oxide % Sigma_SO3, Oxide % Sigma_Cr2O3, Standard Name_Mg, Standardization Date_Mg, Standard Name_Si, Standardization Date_Si, Standard Name_Ti, Standardization Date_Ti, Standard Name_Al, Standardization Date_Al, Standard Name_Ca, Standardization Date_Ca, Standard Name_Mn, Standardization Date_Mn, Standard Name_P, Standardization Date_P, Standard Name_Na, Standardization Date_Na, Standard Name_K, Standardization Date_K, Standard Name_Fe, Standardization Date_Fe, Standard Name_Ni, Standardization Date_Ni, Standard Name_S, Standardization Date_S, Standard Name_Cr, Standardization Date_Cr]\n",
       "Index: []\n",
       "\n",
       "[0 rows x 69 columns]"
      ]
     },
     "metadata": {},
     "output_type": "display_data"
    }
   ],
   "source": [
    "StdName='GOR'\n",
    "StdString='GOR'\n",
    "Mac_Fo=pt.extract_silicate_standard_data(df_final, PersonName, StdName, AnalysisDate, StdString)\n",
    "Mac_Fo.to_clipboard(excel=True)"
   ]
  },
  {
   "cell_type": "code",
   "execution_count": 11,
   "metadata": {},
   "outputs": [
    {
     "data": {
      "text/html": [
       "<div>\n",
       "<style scoped>\n",
       "    .dataframe tbody tr th:only-of-type {\n",
       "        vertical-align: middle;\n",
       "    }\n",
       "\n",
       "    .dataframe tbody tr th {\n",
       "        vertical-align: top;\n",
       "    }\n",
       "\n",
       "    .dataframe thead th {\n",
       "        text-align: right;\n",
       "    }\n",
       "</style>\n",
       "<table border=\"1\" class=\"dataframe\">\n",
       "  <thead>\n",
       "    <tr style=\"text-align: right;\">\n",
       "      <th></th>\n",
       "      <th>AnalysisDate</th>\n",
       "      <th>PersonName</th>\n",
       "      <th>SampleID</th>\n",
       "      <th>Total_Oxide%</th>\n",
       "      <th>MgO</th>\n",
       "      <th>SiO2</th>\n",
       "      <th>TiO2</th>\n",
       "      <th>Al2O3</th>\n",
       "      <th>CaO</th>\n",
       "      <th>MnO</th>\n",
       "      <th>...</th>\n",
       "      <th>Standard Name_K</th>\n",
       "      <th>Standardization Date_K</th>\n",
       "      <th>Standard Name_Fe</th>\n",
       "      <th>Standardization Date_Fe</th>\n",
       "      <th>Standard Name_Ni</th>\n",
       "      <th>Standardization Date_Ni</th>\n",
       "      <th>Standard Name_S</th>\n",
       "      <th>Standardization Date_S</th>\n",
       "      <th>Standard Name_Cr</th>\n",
       "      <th>Standardization Date_Cr</th>\n",
       "    </tr>\n",
       "  </thead>\n",
       "  <tbody>\n",
       "  </tbody>\n",
       "</table>\n",
       "<p>0 rows × 69 columns</p>\n",
       "</div>"
      ],
      "text/plain": [
       "Empty DataFrame\n",
       "Columns: [AnalysisDate, PersonName, SampleID, Total_Oxide%, MgO, SiO2, TiO2, Al2O3, CaO, MnO, P2O5, Na2O, K2O, FeOt, NiO, SO3, Cr2O3, MgO_norm, SiO2_norm, TiO2_norm, Al2O3_norm, CaO_norm, MnO_norm, P2O5_norm, Na2O_norm, K2O_norm, FeOt_norm, NiO_norm, SO3_norm, Cr2O3_norm, Oxide % Sigma_MgO, Oxide % Sigma_SiO2, Oxide % Sigma_TiO2, Oxide % Sigma_Al2O3, Oxide % Sigma_CaO, Oxide % Sigma_MnO, Oxide % Sigma_P2O5, Oxide % Sigma_Na2O, Oxide % Sigma_K2O, Oxide % Sigma_FeOt, Oxide % Sigma_NiO, Oxide % Sigma_SO3, Oxide % Sigma_Cr2O3, Standard Name_Mg, Standardization Date_Mg, Standard Name_Si, Standardization Date_Si, Standard Name_Ti, Standardization Date_Ti, Standard Name_Al, Standardization Date_Al, Standard Name_Ca, Standardization Date_Ca, Standard Name_Mn, Standardization Date_Mn, Standard Name_P, Standardization Date_P, Standard Name_Na, Standardization Date_Na, Standard Name_K, Standardization Date_K, Standard Name_Fe, Standardization Date_Fe, Standard Name_Ni, Standardization Date_Ni, Standard Name_S, Standardization Date_S, Standard Name_Cr, Standardization Date_Cr]\n",
       "Index: []\n",
       "\n",
       "[0 rows x 69 columns]"
      ]
     },
     "metadata": {},
     "output_type": "display_data"
    }
   ],
   "source": [
    "StdName='JDFD-2'\n",
    "StdString='JDFD-2'\n",
    "Mac_Fo=pt.extract_silicate_standard_data(df_final, PersonName, StdName, AnalysisDate, StdString)\n",
    "Mac_Fo.to_clipboard(excel=True)"
   ]
  },
  {
   "cell_type": "code",
   "execution_count": 12,
   "metadata": {},
   "outputs": [
    {
     "data": {
      "text/html": [
       "<div>\n",
       "<style scoped>\n",
       "    .dataframe tbody tr th:only-of-type {\n",
       "        vertical-align: middle;\n",
       "    }\n",
       "\n",
       "    .dataframe tbody tr th {\n",
       "        vertical-align: top;\n",
       "    }\n",
       "\n",
       "    .dataframe thead th {\n",
       "        text-align: right;\n",
       "    }\n",
       "</style>\n",
       "<table border=\"1\" class=\"dataframe\">\n",
       "  <thead>\n",
       "    <tr style=\"text-align: right;\">\n",
       "      <th></th>\n",
       "      <th>AnalysisDate</th>\n",
       "      <th>PersonName</th>\n",
       "      <th>SampleID</th>\n",
       "      <th>Total_Oxide%</th>\n",
       "      <th>MgO</th>\n",
       "      <th>SiO2</th>\n",
       "      <th>TiO2</th>\n",
       "      <th>Al2O3</th>\n",
       "      <th>CaO</th>\n",
       "      <th>MnO</th>\n",
       "      <th>...</th>\n",
       "      <th>Standard Name_K</th>\n",
       "      <th>Standardization Date_K</th>\n",
       "      <th>Standard Name_Fe</th>\n",
       "      <th>Standardization Date_Fe</th>\n",
       "      <th>Standard Name_Ni</th>\n",
       "      <th>Standardization Date_Ni</th>\n",
       "      <th>Standard Name_S</th>\n",
       "      <th>Standardization Date_S</th>\n",
       "      <th>Standard Name_Cr</th>\n",
       "      <th>Standardization Date_Cr</th>\n",
       "    </tr>\n",
       "  </thead>\n",
       "  <tbody>\n",
       "  </tbody>\n",
       "</table>\n",
       "<p>0 rows × 69 columns</p>\n",
       "</div>"
      ],
      "text/plain": [
       "Empty DataFrame\n",
       "Columns: [AnalysisDate, PersonName, SampleID, Total_Oxide%, MgO, SiO2, TiO2, Al2O3, CaO, MnO, P2O5, Na2O, K2O, FeOt, NiO, SO3, Cr2O3, MgO_norm, SiO2_norm, TiO2_norm, Al2O3_norm, CaO_norm, MnO_norm, P2O5_norm, Na2O_norm, K2O_norm, FeOt_norm, NiO_norm, SO3_norm, Cr2O3_norm, Oxide % Sigma_MgO, Oxide % Sigma_SiO2, Oxide % Sigma_TiO2, Oxide % Sigma_Al2O3, Oxide % Sigma_CaO, Oxide % Sigma_MnO, Oxide % Sigma_P2O5, Oxide % Sigma_Na2O, Oxide % Sigma_K2O, Oxide % Sigma_FeOt, Oxide % Sigma_NiO, Oxide % Sigma_SO3, Oxide % Sigma_Cr2O3, Standard Name_Mg, Standardization Date_Mg, Standard Name_Si, Standardization Date_Si, Standard Name_Ti, Standardization Date_Ti, Standard Name_Al, Standardization Date_Al, Standard Name_Ca, Standardization Date_Ca, Standard Name_Mn, Standardization Date_Mn, Standard Name_P, Standardization Date_P, Standard Name_Na, Standardization Date_Na, Standard Name_K, Standardization Date_K, Standard Name_Fe, Standardization Date_Fe, Standard Name_Ni, Standardization Date_Ni, Standard Name_S, Standardization Date_S, Standard Name_Cr, Standardization Date_Cr]\n",
       "Index: []\n",
       "\n",
       "[0 rows x 69 columns]"
      ]
     },
     "metadata": {},
     "output_type": "display_data"
    }
   ],
   "source": [
    "StdName='For'\n",
    "StdString='Fo'\n",
    "Mac_Fo=pt.extract_silicate_standard_data(df_final, PersonName, StdName, AnalysisDate, StdString)\n",
    "Mac_Fo.to_clipboard(excel=True)"
   ]
  },
  {
   "cell_type": "markdown",
   "metadata": {},
   "source": [
    "## Compare EDS and WDS Ni"
   ]
  },
  {
   "cell_type": "code",
   "execution_count": 13,
   "metadata": {},
   "outputs": [],
   "source": [
    "df=df_final\n",
    "df_Ni_WDS=df.loc[df['Signal Type_Ni']=='WDS']\n",
    "df_Ni_EDS=df.loc[(df['Signal Type_Ni']=='EDS')]\n"
   ]
  },
  {
   "cell_type": "code",
   "execution_count": 14,
   "metadata": {},
   "outputs": [
    {
     "name": "stderr",
     "output_type": "stream",
     "text": [
      "C:\\Users\\charl\\AppData\\Local\\Temp\\ipykernel_22108\\289905960.py:1: SettingWithCopyWarning: \n",
      "A value is trying to be set on a copy of a slice from a DataFrame.\n",
      "Try using .loc[row_indexer,col_indexer] = value instead\n",
      "\n",
      "See the caveats in the documentation: https://pandas.pydata.org/pandas-docs/stable/user_guide/indexing.html#returning-a-view-versus-a-copy\n",
      "  df_Ni_WDS['simplename'] = df_Ni_WDS['Sample Name'].astype(str).str.replace('_WDS', '', regex=False)\n",
      "C:\\Users\\charl\\AppData\\Local\\Temp\\ipykernel_22108\\289905960.py:2: SettingWithCopyWarning: \n",
      "A value is trying to be set on a copy of a slice from a DataFrame.\n",
      "Try using .loc[row_indexer,col_indexer] = value instead\n",
      "\n",
      "See the caveats in the documentation: https://pandas.pydata.org/pandas-docs/stable/user_guide/indexing.html#returning-a-view-versus-a-copy\n",
      "  df_Ni_EDS['simplename']=df_Ni_EDS['Sample Name']\n"
     ]
    }
   ],
   "source": [
    "df_Ni_WDS['simplename'] = df_Ni_WDS['Sample Name'].astype(str).str.replace('_WDS', '', regex=False)\n",
    "df_Ni_EDS['simplename']=df_Ni_EDS['Sample Name']"
   ]
  },
  {
   "cell_type": "code",
   "execution_count": 15,
   "metadata": {},
   "outputs": [],
   "source": [
    "df_combined_WDS_EDS = pd.merge(df_Ni_WDS, df_Ni_EDS, on='simplename', how='left')"
   ]
  },
  {
   "cell_type": "code",
   "execution_count": 16,
   "metadata": {},
   "outputs": [
    {
     "data": {
      "text/plain": [
       "Text(0, 0.5, 'EDS NiO (wt%)')"
      ]
     },
     "execution_count": 16,
     "metadata": {},
     "output_type": "execute_result"
    },
    {
     "data": {
      "image/png": "[encoded data removed]",
      "text/plain": [
       "<Figure size 640x480 with 1 Axes>"
      ]
     },
     "metadata": {},
     "output_type": "display_data"
    }
   ],
   "source": [
    "plt.plot(df_combined_WDS_EDS['NiO_x'],df_combined_WDS_EDS['NiO_y'], '.r' )\n",
    "\n",
    "plt.errorbar(df_combined_WDS_EDS['NiO_x'],df_combined_WDS_EDS['NiO_y'], \n",
    "             xerr=df_combined_WDS_EDS['Oxide % Sigma_NiO_x'], yerr=df_combined_WDS_EDS['Oxide % Sigma_NiO_y'],\n",
    "             fmt='d', ecolor='grey', elinewidth=0.8, mfc='cyan', ms=5, mec='k', capsize=3)\n",
    "\n",
    "plt.plot([0, 0.5], [0, 0.5], '-k')\n",
    "plt.plot([0, 0.5], [0, 0.5*1.1], ':k')\n",
    "plt.plot([0, 0.5], [0, 0.5*0.9], ':k')\n",
    "plt.xlabel('WDS NiO (wt%)')\n",
    "plt.ylabel('EDS NiO (wt%)')"
   ]
  },
  {
   "cell_type": "code",
   "execution_count": 84,
   "metadata": {},
   "outputs": [
    {
     "data": {
      "text/plain": [
       "Text(0, 0.5, 'EDS NiO (wt%)')"
      ]
     },
     "execution_count": 84,
     "metadata": {},
     "output_type": "execute_result"
    },
    {
     "data": {
      "image/png": "[encoded data removed]",
      "text/plain": [
       "<Figure size 640x480 with 1 Axes>"
      ]
     },
     "metadata": {},
     "output_type": "display_data"
    }
   ],
   "source": [
    "plt.plot(df_combined_WDS_EDS['NiO_x'],df_combined_WDS_EDS['NiO_y'], '.r' )\n",
    "\n",
    "plt.errorbar(df_combined_WDS_EDS['NiO_x'],df_combined_WDS_EDS['NiO_y'], \n",
    "             xerr=df_combined_WDS_EDS['Oxide % Sigma_NiO_x'], yerr=df_combined_WDS_EDS['Oxide % Sigma_NiO_y'],\n",
    "             fmt='d', ecolor='grey', elinewidth=0.8, mfc='cyan', ms=5, mec='k', capsize=3)\n",
    "\n",
    "plt.plot([0, 0.5], [0, 0.5], '-k')\n",
    "plt.plot([0, 0.5], [0, 0.5*1.1], ':k')\n",
    "plt.plot([0, 0.5], [0, 0.5*0.9], ':k')\n",
    "plt.xlabel('WDS NiO (wt%)')\n",
    "plt.ylabel('EDS NiO (wt%)')"
   ]
  },
  {
   "cell_type": "code",
   "execution_count": 85,
   "metadata": {},
   "outputs": [],
   "source": [
    "Oliv=df_combined_WDS_EDS['Sample Name_x'].str.contains('Olivine')\n",
    "Fo=df_combined_WDS_EDS['Sample Name_x'].str.contains('Fo')"
   ]
  },
  {
   "cell_type": "code",
   "execution_count": 86,
   "metadata": {},
   "outputs": [
    {
     "data": {
      "text/plain": [
       "[<matplotlib.lines.Line2D at 0x30c683440>]"
      ]
     },
     "execution_count": 86,
     "metadata": {},
     "output_type": "execute_result"
    },
    {
     "data": {
      "image/png": "[encoded data removed]",
      "text/plain": [
       "<Figure size 640x480 with 1 Axes>"
      ]
     },
     "metadata": {},
     "output_type": "display_data"
    }
   ],
   "source": [
    "plt.plot(df_combined_WDS_EDS['NiO_x'].loc[Oliv],df_combined_WDS_EDS['NiO_y'].loc[Oliv], '.g' , label='ol')\n",
    "plt.plot(df_combined_WDS_EDS['NiO_x'].loc[Fo],df_combined_WDS_EDS['NiO_y'].loc[Fo], '.r' , label='For')\n",
    "plt.legend()\n",
    "plt.plot([0, 0.5], [0, 0.5], '-k')\n",
    "plt.plot([0, 0.5], [0, 0.5*1.1], ':k')\n",
    "plt.plot([0, 0.5], [0, 0.5*0.9], ':k')"
   ]
  },
  {
   "cell_type": "code",
   "execution_count": 13,
   "metadata": {},
   "outputs": [],
   "source": []
  },
  {
   "cell_type": "code",
   "execution_count": null,
   "metadata": {},
   "outputs": [],
   "source": []
  }
 ],
 "metadata": {
  "kernelspec": {
   "display_name": "py3115",
   "language": "python",
   "name": "python3"
  },
  "language_info": {
   "codemirror_mode": {
    "name": "ipython",
    "version": 3
   },
   "file_extension": ".py",
   "mimetype": "text/x-python",
   "name": "python",
   "nbconvert_exporter": "python",
   "pygments_lexer": "ipython3",
   "version": "3.11.5"
  }
 },
 "nbformat": 4,
 "nbformat_minor": 2
}
