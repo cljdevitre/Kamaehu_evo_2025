{
 "cells": [
  {
   "cell_type": "code",
   "execution_count": 1,
   "metadata": {},
   "outputs": [],
   "source": [
    "import pandas as pd\n",
    "import numpy as np\n",
    "import matplotlib.pyplot as plt\n",
    "import mineralML as mm\n",
    "import Thermobar as pt\n"
   ]
  },
  {
   "cell_type": "code",
   "execution_count": 2,
   "metadata": {},
   "outputs": [
    {
     "data": {
      "text/plain": [
       "'0.0.0.5'"
      ]
     },
     "execution_count": 2,
     "metadata": {},
     "output_type": "execute_result"
    }
   ],
   "source": [
    "mm.__version__"
   ]
  },
  {
   "cell_type": "code",
   "execution_count": 3,
   "metadata": {},
   "outputs": [
    {
     "data": {
      "text/plain": [
       "'1.0.49'"
      ]
     },
     "execution_count": 3,
     "metadata": {},
     "output_type": "execute_result"
    }
   ],
   "source": [
    "pt.__version__"
   ]
  },
  {
   "cell_type": "markdown",
   "metadata": {},
   "source": [
    "## To extract data"
   ]
  },
  {
   "cell_type": "code",
   "execution_count": 4,
   "metadata": {},
   "outputs": [
    {
     "data": {
      "text/html": [
       "<div>\n",
       "<style scoped>\n",
       "    .dataframe tbody tr th:only-of-type {\n",
       "        vertical-align: middle;\n",
       "    }\n",
       "\n",
       "    .dataframe tbody tr th {\n",
       "        vertical-align: top;\n",
       "    }\n",
       "\n",
       "    .dataframe thead th {\n",
       "        text-align: right;\n",
       "    }\n",
       "</style>\n",
       "<table border=\"1\" class=\"dataframe\">\n",
       "  <thead>\n",
       "    <tr style=\"text-align: right;\">\n",
       "      <th></th>\n",
       "      <th>Sample Name</th>\n",
       "      <th>Total_wt%</th>\n",
       "      <th>Total_Oxide%</th>\n",
       "      <th>Al2O3</th>\n",
       "      <th>CaO</th>\n",
       "      <th>Cu</th>\n",
       "      <th>FeOt</th>\n",
       "      <th>K2O</th>\n",
       "      <th>MgO</th>\n",
       "      <th>MnO</th>\n",
       "      <th>...</th>\n",
       "      <th>#_ions__Fe</th>\n",
       "      <th>#_ions__Ni</th>\n",
       "      <th>#_ions__Cu</th>\n",
       "      <th>#_ions__Na</th>\n",
       "      <th>#_ions__Al</th>\n",
       "      <th>#_ions__P</th>\n",
       "      <th>#_ions__K</th>\n",
       "      <th>#_ions__Ti</th>\n",
       "      <th>#_ions__S</th>\n",
       "      <th>SampleID</th>\n",
       "    </tr>\n",
       "  </thead>\n",
       "  <tbody>\n",
       "    <tr>\n",
       "      <th>0</th>\n",
       "      <td>MAC_Fo_Alexproj_ThuMorn_12</td>\n",
       "      <td>100.5352</td>\n",
       "      <td>100.5352</td>\n",
       "      <td>NaN</td>\n",
       "      <td>0.0947</td>\n",
       "      <td>NaN</td>\n",
       "      <td>8.9647</td>\n",
       "      <td>NaN</td>\n",
       "      <td>49.9054</td>\n",
       "      <td>0.1310</td>\n",
       "      <td>...</td>\n",
       "      <td>0.09</td>\n",
       "      <td>0.0</td>\n",
       "      <td>NaN</td>\n",
       "      <td>NaN</td>\n",
       "      <td>NaN</td>\n",
       "      <td>NaN</td>\n",
       "      <td>NaN</td>\n",
       "      <td>NaN</td>\n",
       "      <td>NaN</td>\n",
       "      <td>MAC_Fo_Alexproj_ThuMorn_12</td>\n",
       "    </tr>\n",
       "    <tr>\n",
       "      <th>1</th>\n",
       "      <td>San Carlos__Alexproj_ThuMorn_9</td>\n",
       "      <td>100.7858</td>\n",
       "      <td>100.7858</td>\n",
       "      <td>NaN</td>\n",
       "      <td>0.0841</td>\n",
       "      <td>NaN</td>\n",
       "      <td>9.8075</td>\n",
       "      <td>NaN</td>\n",
       "      <td>49.2477</td>\n",
       "      <td>0.1673</td>\n",
       "      <td>...</td>\n",
       "      <td>0.10</td>\n",
       "      <td>0.0</td>\n",
       "      <td>NaN</td>\n",
       "      <td>NaN</td>\n",
       "      <td>NaN</td>\n",
       "      <td>NaN</td>\n",
       "      <td>NaN</td>\n",
       "      <td>NaN</td>\n",
       "      <td>NaN</td>\n",
       "      <td>San Carlos__Alexproj_ThuMorn_9</td>\n",
       "    </tr>\n",
       "    <tr>\n",
       "      <th>2</th>\n",
       "      <td>San Carlos__Alexproj_ThuMorn_10</td>\n",
       "      <td>100.3138</td>\n",
       "      <td>100.3138</td>\n",
       "      <td>NaN</td>\n",
       "      <td>0.0973</td>\n",
       "      <td>NaN</td>\n",
       "      <td>9.8529</td>\n",
       "      <td>NaN</td>\n",
       "      <td>48.9913</td>\n",
       "      <td>0.1535</td>\n",
       "      <td>...</td>\n",
       "      <td>0.10</td>\n",
       "      <td>0.0</td>\n",
       "      <td>NaN</td>\n",
       "      <td>NaN</td>\n",
       "      <td>NaN</td>\n",
       "      <td>NaN</td>\n",
       "      <td>NaN</td>\n",
       "      <td>NaN</td>\n",
       "      <td>NaN</td>\n",
       "      <td>San Carlos__Alexproj_ThuMorn_10</td>\n",
       "    </tr>\n",
       "    <tr>\n",
       "      <th>3</th>\n",
       "      <td>San Carlos_c2_Alexproj_ThuMorn_1</td>\n",
       "      <td>100.6901</td>\n",
       "      <td>100.6901</td>\n",
       "      <td>NaN</td>\n",
       "      <td>0.1183</td>\n",
       "      <td>NaN</td>\n",
       "      <td>9.9223</td>\n",
       "      <td>NaN</td>\n",
       "      <td>49.1817</td>\n",
       "      <td>0.1501</td>\n",
       "      <td>...</td>\n",
       "      <td>0.10</td>\n",
       "      <td>0.0</td>\n",
       "      <td>NaN</td>\n",
       "      <td>NaN</td>\n",
       "      <td>NaN</td>\n",
       "      <td>NaN</td>\n",
       "      <td>NaN</td>\n",
       "      <td>NaN</td>\n",
       "      <td>NaN</td>\n",
       "      <td>San Carlos_c2_Alexproj_ThuMorn_1</td>\n",
       "    </tr>\n",
       "    <tr>\n",
       "      <th>4</th>\n",
       "      <td>Mac_Olivine_thu_morn_1</td>\n",
       "      <td>100.2884</td>\n",
       "      <td>100.2884</td>\n",
       "      <td>NaN</td>\n",
       "      <td>0.0355</td>\n",
       "      <td>NaN</td>\n",
       "      <td>8.7609</td>\n",
       "      <td>NaN</td>\n",
       "      <td>49.9183</td>\n",
       "      <td>0.1536</td>\n",
       "      <td>...</td>\n",
       "      <td>0.09</td>\n",
       "      <td>0.0</td>\n",
       "      <td>NaN</td>\n",
       "      <td>NaN</td>\n",
       "      <td>NaN</td>\n",
       "      <td>NaN</td>\n",
       "      <td>NaN</td>\n",
       "      <td>NaN</td>\n",
       "      <td>NaN</td>\n",
       "      <td>Mac_Olivine_thu_morn_1</td>\n",
       "    </tr>\n",
       "  </tbody>\n",
       "</table>\n",
       "<p>5 rows × 211 columns</p>\n",
       "</div>"
      ],
      "text/plain": [
       "                        Sample Name  Total_wt%  Total_Oxide%  Al2O3     CaO  \\\n",
       "0        MAC_Fo_Alexproj_ThuMorn_12   100.5352      100.5352    NaN  0.0947   \n",
       "1    San Carlos__Alexproj_ThuMorn_9   100.7858      100.7858    NaN  0.0841   \n",
       "2   San Carlos__Alexproj_ThuMorn_10   100.3138      100.3138    NaN  0.0973   \n",
       "3  San Carlos_c2_Alexproj_ThuMorn_1   100.6901      100.6901    NaN  0.1183   \n",
       "4            Mac_Olivine_thu_morn_1   100.2884      100.2884    NaN  0.0355   \n",
       "\n",
       "   Cu    FeOt  K2O      MgO     MnO  ...  #_ions__Fe  #_ions__Ni  #_ions__Cu  \\\n",
       "0 NaN  8.9647  NaN  49.9054  0.1310  ...        0.09         0.0         NaN   \n",
       "1 NaN  9.8075  NaN  49.2477  0.1673  ...        0.10         0.0         NaN   \n",
       "2 NaN  9.8529  NaN  48.9913  0.1535  ...        0.10         0.0         NaN   \n",
       "3 NaN  9.9223  NaN  49.1817  0.1501  ...        0.10         0.0         NaN   \n",
       "4 NaN  8.7609  NaN  49.9183  0.1536  ...        0.09         0.0         NaN   \n",
       "\n",
       "   #_ions__Na  #_ions__Al  #_ions__P  #_ions__K  #_ions__Ti  #_ions__S  \\\n",
       "0         NaN         NaN        NaN        NaN         NaN        NaN   \n",
       "1         NaN         NaN        NaN        NaN         NaN        NaN   \n",
       "2         NaN         NaN        NaN        NaN         NaN        NaN   \n",
       "3         NaN         NaN        NaN        NaN         NaN        NaN   \n",
       "4         NaN         NaN        NaN        NaN         NaN        NaN   \n",
       "\n",
       "                           SampleID  \n",
       "0        MAC_Fo_Alexproj_ThuMorn_12  \n",
       "1    San Carlos__Alexproj_ThuMorn_9  \n",
       "2   San Carlos__Alexproj_ThuMorn_10  \n",
       "3  San Carlos_c2_Alexproj_ThuMorn_1  \n",
       "4            Mac_Olivine_thu_morn_1  \n",
       "\n",
       "[5 rows x 211 columns]"
      ]
     },
     "execution_count": 4,
     "metadata": {},
     "output_type": "execute_result"
    }
   ],
   "source": [
    "result = pt.process_excel_file(\"KAM_Nov2124_EDS.xlsx\", sheet_name=\"Standards_norefs\")\n",
    "sorted_df = pt.sort_columns(result)\n",
    "sorted_df['SampleID']=sorted_df['Sample Name']\n",
    "sorted_df.head()\n"
   ]
  },
  {
   "cell_type": "code",
   "execution_count": 5,
   "metadata": {},
   "outputs": [],
   "source": [
    "sorted_df.to_clipboard(excel=True)"
   ]
  },
  {
   "cell_type": "markdown",
   "metadata": {},
   "source": [
    "## Now run through mineral ML"
   ]
  },
  {
   "cell_type": "code",
   "execution_count": 8,
   "metadata": {},
   "outputs": [],
   "source": [
    "df_final=pt.minClass(sorted_df)"
   ]
  },
  {
   "cell_type": "markdown",
   "metadata": {},
   "source": [
    "## Extract standards and paste into this sheet - \n",
    " https://docs.google.com/spreadsheets/d/1V6m2yhYWO6vrLcbZ-0ccXu5zADcnHxmloiOhQwrKl8U/edit?usp=sharing"
   ]
  },
  {
   "cell_type": "code",
   "execution_count": 9,
   "metadata": {},
   "outputs": [],
   "source": [
    "# Put your name and analysis date here - if it spans multiple days in a single sesion, dont worry, the first day is fine, your standards should be named mon_morn, mon_afternoon etc. anyway. \n",
    "PersonName='Charlotte'\n",
    "AnalysisDate='10/3/2024'"
   ]
  },
  {
   "cell_type": "markdown",
   "metadata": {},
   "source": [
    "## For each standard, write the Name, and also the string in your name 'e.g. if your san carlos are called SC, you would put StdString 'SC'\n",
    "- Copy and paste these cells for as many standards as you have - p.s. right now, only works for silicates, I need to format for Other oxides. "
   ]
  },
  {
   "cell_type": "code",
   "execution_count": 10,
   "metadata": {},
   "outputs": [
    {
     "data": {
      "text/plain": [
       "array([nan, 'KL2-G_1', 'KL2-G_2', 'KL2-G_3', 'JDFD2_g4_1', 'JDFD2_g4_2',\n",
       "       'A99_1', 'A99_2', 'Mac_Fo_1', 'Mac_Fo_2', 'KL2-G_4',\n",
       "       'KL2-G_4_deVitre_NAMG', 'ML3B-G_1', 'JDFD2_g2_TuesMorn_1',\n",
       "       'JDFD2_g2_TuesMorn_1_WDS', 'JDFD2_g2_TuesMorn_1_WDS_2',\n",
       "       'JDFD2_g2_TuesMorn_2', 'JDFD2_g2_TuesMorn_3',\n",
       "       'JDFD2_g2_TuesMorn_4', 'JDFD2_g2_TuesMorn_5',\n",
       "       'JDFD2_g2_TuesMorn_2_WDS', 'JDFD2_g2_TuesMorn_3_WDS',\n",
       "       'JDFD2_g2_TuesMorn_4_WDS', 'JDFD2_g2_TuesMorn_5_WDS',\n",
       "       'St_Johns_Hypersthene_C2_TuesMorn1',\n",
       "       'St_Johns_Hypersthene_C2_TuesMorn2',\n",
       "       'St_Johns_Hypersthene_C2_TuesMorn3',\n",
       "       'St_Johns_Hypersthene_C2_TuesMorn3_WDS',\n",
       "       'St_Johns_Hypersthene_C2_TuesMorn1_WDS',\n",
       "       'St_Johns_Hypersthene_C2_TuesMorn2_WDS', 'JDFD2_g2_TuesMorn_6',\n",
       "       'JDFD2_g2_TuesMorn_7', 'A99_TuesMorn_3', 'M49_201_MIA',\n",
       "       'M49_200_MIA', 'M49_211_MIA', 'M49_214_MIA', 'M49_226_MIA',\n",
       "       'M49_224_MIA', 'M49_224_MIB', 'M85_223_MIA', 'M85_205_MIA',\n",
       "       'M85_218_MIA', 'M85_217_MIA', 'M85_212_MIA', 'M85_221_MIA',\n",
       "       'M85_213_MIA', 'M85_216_MIA', 'M85_215_MIA', 'M85_214_MIA',\n",
       "       'M85_220_MIA', 'M49_220_MIA', 'M49_222_MIB',\n",
       "       'JDFD2_g2_TuesAfternoon_8', 'JDFD2_g2_TuesAfternoon_9',\n",
       "       'JDFD2_g2_TuesMorn_6_WDS', 'JDFD2_g2_TuesMorn_7_WDS',\n",
       "       'M49_201_MIA_WDS', 'M49_200_MIA_WDS', 'M49_211_MIA_WDS',\n",
       "       'M49_214_MIA_WDS', 'M49_226_MIA_WDS', 'M49_224_MIA_WDS',\n",
       "       'M49_224_MIB_WDS', 'M85_223_MIA_WDS', 'M85_205_MIA_WDS',\n",
       "       'M85_218_MIA_WDS', 'M85_217_MIA_WDS', 'M85_212_MIA_WDS',\n",
       "       'M85_221_MIA_WDS', 'M85_213_MIA_WDS', 'M85_216_MIA_WDS',\n",
       "       'M85_215_MIA_WDS', 'M85_214_MIA_WDS', 'M85_220_MIA_WDS',\n",
       "       'M49_220_MIA_WDS', 'M49_222_MIB_WDS',\n",
       "       'JDFD2_g2_TuesAfternoon_8_WDS', 'JDFD2_g2_TuesAfternoon_9_WDS',\n",
       "       'JDFD2_g2_TuesAfternoon_10', 'JDFD2_g2_TuesAfternoon_11',\n",
       "       'M49_219_MIA_1', 'M49_219_MIA_2', 'M49_212_MIA', 'M49_205_MIA',\n",
       "       'M49_204_MIA', 'MLP_217_MIA', 'MLP_214_MIA', 'MLP_216_MIA',\n",
       "       'M58_214_MIA', 'M58_222_MIA', 'M58_200_MIB', 'MLP_209_MIA',\n",
       "       'MP2_219_MIA', 'MP2_217_MIA', 'MLP_212_MIA', 'MLP_210_MIA',\n",
       "       'MP2_221_MIA', 'MLP_211_MIA', 'JDFD2_g2_TuesNight12',\n",
       "       'JDFD2_g2_TuesNight13', 'JDFD2_g2_TuesAfternoon_10_WDS',\n",
       "       'JDFD2_g2_TuesAfternoon_11_WDS', 'M49_219_MIA_2_WDS',\n",
       "       'M49_212_MIA_WDS', 'M49_205_MIA_WDS', 'M49_204_MIA_WDS',\n",
       "       'MLP_217_MIA_WDS', 'MLP_214_MIA_WDS', 'MLP_216_MIA_WDS',\n",
       "       'M58_222_MIA_WDS', 'M58_200_MIB_WDS', 'MLP_209_MIA_WDS',\n",
       "       'MP2_219_MIA_WDS', 'MP2_217_MIA_WDS', 'MLP_212_MIA_WDS',\n",
       "       'MLP_210_MIA_WDS', 'MP2_221_MIA_WDS', 'MLP_211_MIA_WDS',\n",
       "       'JDFD2_g2_TuesNight12_WDS', 'JDFD2_g2_TuesNight13_WDS',\n",
       "       'MAC_Fo_WedMorn_3', 'MAC_Fo_WedMorn_4', 'MAC_Olivine_WedMorn_1',\n",
       "       'MAC_Olivine_WedMorn_2', 'MAC_Olivine_WedMorn_3',\n",
       "       'St_Johns_Hypersthene_C2_WedMorn_4',\n",
       "       'St_Johns_Hypersthene_C2_WedMorn_5',\n",
       "       'St_Johns_Hypersthene_C2_WedMorn_6', 'MAC_Enstatite_WedMorn_1',\n",
       "       'MAC_Enstatite_WedMorn_2', 'M49_201_MIA_Min_Spot1',\n",
       "       'M49_201_MIA_Min_Spot2', 'M49_201_MIA_Min_Spot3',\n",
       "       'M49_200_MIA_Min_Spot1', 'M49_200_MIA_Min_Spot2',\n",
       "       'M49_200_MIA_Min_Spot3', 'M49_211_MIA_Min_Spot1',\n",
       "       'M49_211_MIA_Min_Spot2', 'M49_211_MIA_Min_Spot3',\n",
       "       'M49_214_MIA_Min_Spot1', 'M49_214_MIA_Min_Spot2',\n",
       "       'M49_214_MIA_Min_Spot3', 'M49_226_MIA_Min_Spot1',\n",
       "       'M49_226_MIA_Min_Spot2', 'M49_226_MIA_Min_Spot3',\n",
       "       'M49_224_MIA_Min_Spot1', 'M49_224_MIA_Min_Spot2',\n",
       "       'M49_224_MIA_Min_Spot3', 'M85_223_MIA_Min_Spot1',\n",
       "       'M85_223_MIA_Min_Spot2', 'M85_223_MIA_Min_Spot3',\n",
       "       'M85_205_MIA_Min_Spot1', 'M85_205_MIA_Min_Spot2',\n",
       "       'M85_205_MIA_Min_Spot3', 'M85_218_MIA_Min_Spot1',\n",
       "       'M85_218_MIA_Min_Spot2', 'M85_218_MIA_Min_Spot3',\n",
       "       'M85_217_MIA_Min_Spot1', 'M85_217_MIA_Min_Spot2',\n",
       "       'M85_217_MIA_Min_Spot3', 'M85_212_MIA_Min_Spot1',\n",
       "       'M85_212_MIA_Min_Spot2', 'M85_212_MIA_Min_Spot3',\n",
       "       'M85_221_MIA_Min_Spot1', 'M85_221_MIA_Min_Spot2',\n",
       "       'M85_221_MIA_Min_Spot3', 'St_Johns_Hypersthene_C2_WedAfternoon_7',\n",
       "       'MAC_Fo_WedMorn_5', 'M85_213_MIA_Min_Spot1',\n",
       "       'M85_213_MIA_Min_Spot2', 'M85_213_MIA_Min_Spot3',\n",
       "       'M85_216_MIA_Min_Spot1', 'M85_216_MIA_Min_Spot2',\n",
       "       'M85_216_MIA_Min_Spot3', 'M85_215_MIA_Min_Spot1',\n",
       "       'M85_215_MIA_Min_Spot2', 'M85_215_MIA_Min_Spot3',\n",
       "       'M85_214_MIA_Min_Spot1', 'M85_214_MIA_Min_Spot2',\n",
       "       'M85_214_MIA_Min_Spot3', 'M85_220_MIA_Min_Spot1',\n",
       "       'M85_220_MIA_Min_Spot2', 'M85_220_MIA_Min_Spot3',\n",
       "       'M49_220_MIA_Min_Spot1', 'M49_220_MIA_Min_Spot2',\n",
       "       'M49_220_MIA_Min_Spot3', 'M49_222_MIB_Min_Spot1',\n",
       "       'M49_222_MIB_Min_Spot2', 'M49_222_MIB_Min_Spot3',\n",
       "       'M49_219_MIA_Min_Spot1', 'M49_219_MIA_Min_Spot2',\n",
       "       'M49_219_MIA_Min_Spot3', 'M49_212_MIA_Min_Spot1',\n",
       "       'M49_212_MIA_Min_Spot2', 'M49_212_MIA_Min_Spot3',\n",
       "       'M49_205_MIA_Min_Spot1', 'M49_205_MIA_Min_Spot2',\n",
       "       'M49_205_MIA_Min_Spot3', 'M49_204_MIA_Min_Spot1',\n",
       "       'M49_204_MIA_Min_Spot2', 'M49_204_MIA_Min_Spot3',\n",
       "       'MLP_217_MIA_Min_Spot1', 'MLP_217_MIA_Min_Spot2',\n",
       "       'MLP_217_MIA_Min_Spot3', 'St_Johns_Hypersthene_C2_WedAfternoon_8',\n",
       "       'MAC_Fo_WedMorn_6', 'MLP_214_MIA_Min_Spot1',\n",
       "       'MLP_214_MIA_Min_Spot2', 'MLP_214_MIA_Min_Spot3',\n",
       "       'MLP_216_MIA_Min_Spot1', 'MLP_216_MIA_Min_Spot2',\n",
       "       'MLP_216_MIA_Min_Spot3', 'M58_214_MIA_Min_Spot1',\n",
       "       'M58_214_MIA_Min_Spot2', 'M58_214_MIA_Min_Spot3',\n",
       "       'M58_222_MIA_Min_Spot1', 'M58_222_MIA_Min_Spot2',\n",
       "       'M58_200_MIB_Min_Spot1', 'M58_200_MIB_Min_Spot2',\n",
       "       'MLP_209_MIA_Min_Spot1', 'MLP_209_MIA_Min_Spot2',\n",
       "       'MP2_219_MIA_Min_Spot1', 'MP2_219_MIA_Min_Spot2',\n",
       "       'MP2_219_MIA_Min_Spot3', 'MP2_217_MIA_Min_Spot1',\n",
       "       'MP2_217_MIA_Min_Spot2', 'MLP_212_MIA_Min_Spot1',\n",
       "       'MLP_212_MIA_Min_Spot2', 'MLP_210_MIA_Min_Spot1',\n",
       "       'MLP_210_MIA_Min_Spot2', 'MLP_210_MIA_Min_Spot3',\n",
       "       'MP2_221_MIA_Min_Spot1', 'MP2_221_MIA_Min_Spot2',\n",
       "       'MP2_221_MIA_Min_Spot3', 'MLP_211_MIA_Min_Spot1',\n",
       "       'MLP_211_MIA_Min_Spot2', 'MLP_211_MIA_Min_Spot3',\n",
       "       'St_Johns_Hypersthene_C2_WedAfternoon_9',\n",
       "       'St_Johns_Hypersthene_C2_WedAfternoon_10', 'MAC_Fo_WedAfternoon_7',\n",
       "       'MAC_Fo_WedAfternoon_8', 'M49_201_MIA_Min_Spot2_WDS',\n",
       "       'M49_214_MIA_Min_Spot2_WDS',\n",
       "       'St_Johns_Hypersthene_C2_WedMorn_4_WDS',\n",
       "       'St_Johns_Hypersthene_C2_WedMorn_5_WDS',\n",
       "       'St_Johns_Hypersthene_C2_WedMorn_6_WDS',\n",
       "       'M49_226_MIA_Min_Spot1_WDS', 'M49_224_MIA_Min_Spot1_WDS',\n",
       "       'M85_223_MIA_Min_Spot1_WDS', 'M85_205_MIA_Min_Spot3_WDS',\n",
       "       'M85_218_MIA_Min_Spot1_WDS', 'M85_217_MIA_Min_Spot1_WDS',\n",
       "       'M85_212_MIA_Min_Spot2_WDS', 'M85_221_MIA_Min_Spot1_WDS',\n",
       "       'M85_213_MIA_Min_Spot2_WDS', 'M85_216_MIA_Min_Spot3_WDS',\n",
       "       'M85_214_MIA_Min_Spot1_WDS', 'M85_220_MIA_Min_Spot1_WDS',\n",
       "       'M49_212_MIA_Min_Spot2_WDS', 'M58_200_MIB_Min_Spot2_WDS',\n",
       "       'St_Johns_Hypersthene_C2_WedAfternoon_7_WDS',\n",
       "       'St_Johns_Hypersthene_C2_WedAfternoon_8_WDS',\n",
       "       'St_Johns_Hypersthene_C2_WedAfternoon_9_WDS',\n",
       "       'St_Johns_Hypersthene_C2_WedAfternoon_10_WDS'], dtype=object)"
      ]
     },
     "execution_count": 10,
     "metadata": {},
     "output_type": "execute_result"
    }
   ],
   "source": [
    "\n",
    "df_final['SampleID'].unique()"
   ]
  },
  {
   "cell_type": "code",
   "execution_count": 11,
   "metadata": {},
   "outputs": [
    {
     "data": {
      "text/html": [
       "<div>\n",
       "<style scoped>\n",
       "    .dataframe tbody tr th:only-of-type {\n",
       "        vertical-align: middle;\n",
       "    }\n",
       "\n",
       "    .dataframe tbody tr th {\n",
       "        vertical-align: top;\n",
       "    }\n",
       "\n",
       "    .dataframe thead th {\n",
       "        text-align: right;\n",
       "    }\n",
       "</style>\n",
       "<table border=\"1\" class=\"dataframe\">\n",
       "  <thead>\n",
       "    <tr style=\"text-align: right;\">\n",
       "      <th></th>\n",
       "      <th>AnalysisDate</th>\n",
       "      <th>PersonName</th>\n",
       "      <th>SampleID</th>\n",
       "      <th>Total_Oxide%</th>\n",
       "      <th>MgO</th>\n",
       "      <th>SiO2</th>\n",
       "      <th>TiO2</th>\n",
       "      <th>Al2O3</th>\n",
       "      <th>CaO</th>\n",
       "      <th>MnO</th>\n",
       "      <th>...</th>\n",
       "      <th>Standard Name_K</th>\n",
       "      <th>Standardization Date_K</th>\n",
       "      <th>Standard Name_Fe</th>\n",
       "      <th>Standardization Date_Fe</th>\n",
       "      <th>Standard Name_Ni</th>\n",
       "      <th>Standardization Date_Ni</th>\n",
       "      <th>Standard Name_S</th>\n",
       "      <th>Standardization Date_S</th>\n",
       "      <th>Standard Name_Cr</th>\n",
       "      <th>Standardization Date_Cr</th>\n",
       "    </tr>\n",
       "  </thead>\n",
       "  <tbody>\n",
       "  </tbody>\n",
       "</table>\n",
       "<p>0 rows × 69 columns</p>\n",
       "</div>"
      ],
      "text/plain": [
       "Empty DataFrame\n",
       "Columns: [AnalysisDate, PersonName, SampleID, Total_Oxide%, MgO, SiO2, TiO2, Al2O3, CaO, MnO, P2O5, Na2O, K2O, FeOt, NiO, SO3, Cr2O3, MgO_norm, SiO2_norm, TiO2_norm, Al2O3_norm, CaO_norm, MnO_norm, P2O5_norm, Na2O_norm, K2O_norm, FeOt_norm, NiO_norm, SO3_norm, Cr2O3_norm, Oxide % Sigma_MgO, Oxide % Sigma_SiO2, Oxide % Sigma_TiO2, Oxide % Sigma_Al2O3, Oxide % Sigma_CaO, Oxide % Sigma_MnO, Oxide % Sigma_P2O5, Oxide % Sigma_Na2O, Oxide % Sigma_K2O, Oxide % Sigma_FeOt, Oxide % Sigma_NiO, Oxide % Sigma_SO3, Oxide % Sigma_Cr2O3, Standard Name_Mg, Standardization Date_Mg, Standard Name_Si, Standardization Date_Si, Standard Name_Ti, Standardization Date_Ti, Standard Name_Al, Standardization Date_Al, Standard Name_Ca, Standardization Date_Ca, Standard Name_Mn, Standardization Date_Mn, Standard Name_P, Standardization Date_P, Standard Name_Na, Standardization Date_Na, Standard Name_K, Standardization Date_K, Standard Name_Fe, Standardization Date_Fe, Standard Name_Ni, Standardization Date_Ni, Standard Name_S, Standardization Date_S, Standard Name_Cr, Standardization Date_Cr]\n",
       "Index: []\n",
       "\n",
       "[0 rows x 69 columns]"
      ]
     },
     "metadata": {},
     "output_type": "display_data"
    }
   ],
   "source": [
    "StdName='forsterite'\n",
    "StdString='forsterite'\n",
    "Mac_Fo=pt.extract_silicate_standard_data(df_final, PersonName, StdName, AnalysisDate, StdString)\n",
    "Mac_Fo.to_clipboard(excel=True)"
   ]
  },
  {
   "cell_type": "code",
   "execution_count": 12,
   "metadata": {},
   "outputs": [
    {
     "data": {
      "text/html": [
       "<div>\n",
       "<style scoped>\n",
       "    .dataframe tbody tr th:only-of-type {\n",
       "        vertical-align: middle;\n",
       "    }\n",
       "\n",
       "    .dataframe tbody tr th {\n",
       "        vertical-align: top;\n",
       "    }\n",
       "\n",
       "    .dataframe thead th {\n",
       "        text-align: right;\n",
       "    }\n",
       "</style>\n",
       "<table border=\"1\" class=\"dataframe\">\n",
       "  <thead>\n",
       "    <tr style=\"text-align: right;\">\n",
       "      <th></th>\n",
       "      <th>AnalysisDate</th>\n",
       "      <th>PersonName</th>\n",
       "      <th>SampleID</th>\n",
       "      <th>Total_Oxide%</th>\n",
       "      <th>MgO</th>\n",
       "      <th>SiO2</th>\n",
       "      <th>TiO2</th>\n",
       "      <th>Al2O3</th>\n",
       "      <th>CaO</th>\n",
       "      <th>MnO</th>\n",
       "      <th>...</th>\n",
       "      <th>Standard Name_K</th>\n",
       "      <th>Standardization Date_K</th>\n",
       "      <th>Standard Name_Fe</th>\n",
       "      <th>Standardization Date_Fe</th>\n",
       "      <th>Standard Name_Ni</th>\n",
       "      <th>Standardization Date_Ni</th>\n",
       "      <th>Standard Name_S</th>\n",
       "      <th>Standardization Date_S</th>\n",
       "      <th>Standard Name_Cr</th>\n",
       "      <th>Standardization Date_Cr</th>\n",
       "    </tr>\n",
       "  </thead>\n",
       "  <tbody>\n",
       "  </tbody>\n",
       "</table>\n",
       "<p>0 rows × 69 columns</p>\n",
       "</div>"
      ],
      "text/plain": [
       "Empty DataFrame\n",
       "Columns: [AnalysisDate, PersonName, SampleID, Total_Oxide%, MgO, SiO2, TiO2, Al2O3, CaO, MnO, P2O5, Na2O, K2O, FeOt, NiO, SO3, Cr2O3, MgO_norm, SiO2_norm, TiO2_norm, Al2O3_norm, CaO_norm, MnO_norm, P2O5_norm, Na2O_norm, K2O_norm, FeOt_norm, NiO_norm, SO3_norm, Cr2O3_norm, Oxide % Sigma_MgO, Oxide % Sigma_SiO2, Oxide % Sigma_TiO2, Oxide % Sigma_Al2O3, Oxide % Sigma_CaO, Oxide % Sigma_MnO, Oxide % Sigma_P2O5, Oxide % Sigma_Na2O, Oxide % Sigma_K2O, Oxide % Sigma_FeOt, Oxide % Sigma_NiO, Oxide % Sigma_SO3, Oxide % Sigma_Cr2O3, Standard Name_Mg, Standardization Date_Mg, Standard Name_Si, Standardization Date_Si, Standard Name_Ti, Standardization Date_Ti, Standard Name_Al, Standardization Date_Al, Standard Name_Ca, Standardization Date_Ca, Standard Name_Mn, Standardization Date_Mn, Standard Name_P, Standardization Date_P, Standard Name_Na, Standardization Date_Na, Standard Name_K, Standardization Date_K, Standard Name_Fe, Standardization Date_Fe, Standard Name_Ni, Standardization Date_Ni, Standard Name_S, Standardization Date_S, Standard Name_Cr, Standardization Date_Cr]\n",
       "Index: []\n",
       "\n",
       "[0 rows x 69 columns]"
      ]
     },
     "metadata": {},
     "output_type": "display_data"
    }
   ],
   "source": [
    "StdName='JDFD-2'\n",
    "StdString='JDFD-2'\n",
    "Mac_Fo=pt.extract_silicate_standard_data(df_final, PersonName, StdName, AnalysisDate, StdString)\n",
    "Mac_Fo.to_clipboard(excel=True)"
   ]
  },
  {
   "cell_type": "code",
   "execution_count": null,
   "metadata": {},
   "outputs": [],
   "source": [
    "StdName='For'\n",
    "StdString='Fo'\n",
    "Mac_Fo=pt.extract_silicate_standard_data(df_final, PersonName, StdName, AnalysisDate, StdString)\n",
    "Mac_Fo.to_clipboard(excel=True)"
   ]
  },
  {
   "cell_type": "markdown",
   "metadata": {},
   "source": [
    "## Compare EDS and WDS"
   ]
  },
  {
   "cell_type": "code",
   "execution_count": 33,
   "metadata": {},
   "outputs": [
    {
     "name": "stderr",
     "output_type": "stream",
     "text": [
      "C:\\Users\\penny\\AppData\\Local\\Temp\\ipykernel_22624\\2046057349.py:9: SettingWithCopyWarning: \n",
      "A value is trying to be set on a copy of a slice from a DataFrame.\n",
      "Try using .loc[row_indexer,col_indexer] = value instead\n",
      "\n",
      "See the caveats in the documentation: https://pandas.pydata.org/pandas-docs/stable/user_guide/indexing.html#returning-a-view-versus-a-copy\n",
      "  df_Ele_WDS['simplename'] = df_Ele_WDS['Sample Name'].astype(str).str.replace('_WDS', '', regex=False)\n",
      "C:\\Users\\penny\\AppData\\Local\\Temp\\ipykernel_22624\\2046057349.py:10: SettingWithCopyWarning: \n",
      "A value is trying to be set on a copy of a slice from a DataFrame.\n",
      "Try using .loc[row_indexer,col_indexer] = value instead\n",
      "\n",
      "See the caveats in the documentation: https://pandas.pydata.org/pandas-docs/stable/user_guide/indexing.html#returning-a-view-versus-a-copy\n",
      "  df_Ele_EDS['simplename']=df_Ele_EDS['Sample Name']\n"
     ]
    },
    {
     "data": {
      "text/plain": [
       "Text(0, 0.5, 'EDS Cr2O3 (wt%)')"
      ]
     },
     "execution_count": 33,
     "metadata": {},
     "output_type": "execute_result"
    },
    {
     "data": {
      "image/png": "[encoded data removed]",
      "text/plain": [
       "<Figure size 640x480 with 1 Axes>"
      ]
     },
     "metadata": {},
     "output_type": "display_data"
    }
   ],
   "source": [
    "\n",
    "ele='Cr'\n",
    "oxide='Cr2O3'\n",
    "std_str='Hyp'\n",
    "\n",
    "df = df_final\n",
    "df_Ele_WDS = df.loc[df[f'Signal Type_{ele}'] == 'WDS']\n",
    "df_Ele_EDS = df.loc[df[f'Signal Type_{ele}'] == 'EDS']\n",
    "\n",
    "df_Ele_WDS['simplename'] = df_Ele_WDS['Sample Name'].astype(str).str.replace('_WDS', '', regex=False)\n",
    "df_Ele_EDS['simplename']=df_Ele_EDS['Sample Name']\n",
    "\n",
    "df_combined_WDS_EDS = pd.merge(df_Ele_WDS, df_Ele_EDS, on='simplename', how='left')\n",
    "\n",
    "## Now make a plot\n",
    "# Plot the main points\n",
    "plt.plot(df_combined_WDS_EDS[f'{oxide}_x'], df_combined_WDS_EDS[f'{oxide}_y'], '.r')\n",
    "\n",
    "# Plot the error bars\n",
    "plt.errorbar(df_combined_WDS_EDS[f'{oxide}_x'], df_combined_WDS_EDS[f'{oxide}_y'], \n",
    "             xerr=df_combined_WDS_EDS[f'Oxide % Sigma_{oxide}_x'], \n",
    "             yerr=df_combined_WDS_EDS[f'Oxide % Sigma_{oxide}_y'],\n",
    "             fmt='d', ecolor='grey', elinewidth=0.8, mfc='cyan', ms=5, mec='k', capsize=3)\n",
    "\n",
    "# Add the standards\n",
    "plt.plot(df_combined_WDS_EDS[f'{oxide}_x'].loc[df_combined_WDS_EDS['Sample Name_x'].str.contains(std_str)],\n",
    "          df_combined_WDS_EDS[f'{oxide}_y'].loc[df_combined_WDS_EDS['Sample Name_x'].str.contains(std_str)], \n",
    "          'dk', mfc='b', zorder=100)\n",
    "\n",
    "# Plot the reference lines\n",
    "max=np.max(df_combined_WDS_EDS[f'{oxide}_x'])\n",
    "min=np.min(df_combined_WDS_EDS[f'{oxide}_x'])\n",
    "plt.plot([0, max], [0, max], '-k')\n",
    "plt.plot([0, max], [0, max* 1.1], ':k')\n",
    "plt.plot([0, max], [0, max * 0.9], ':k')\n",
    "\n",
    "# Set the labels dynamically\n",
    "plt.xlabel(f'WDS {oxide} (wt%)')\n",
    "plt.ylabel(f'EDS {oxide} (wt%)')"
   ]
  },
  {
   "cell_type": "code",
   "execution_count": 15,
   "metadata": {},
   "outputs": [
    {
     "data": {
      "text/plain": [
       "<matplotlib.legend.Legend at 0x2bc636aa7d0>"
      ]
     },
     "execution_count": 15,
     "metadata": {},
     "output_type": "execute_result"
    },
    {
     "data": {
      "image/png": "[encoded data removed]",
      "text/plain": [
       "<Figure size 640x480 with 1 Axes>"
      ]
     },
     "metadata": {},
     "output_type": "display_data"
    }
   ],
   "source": [
    "oxide='Cr2O3'\n",
    "plt.plot(df_combined_WDS_EDS[f'{oxide}_x'],100*df_combined_WDS_EDS[f'Oxide % Sigma_{oxide}_x']/df_combined_WDS_EDS[f'{oxide}_x'], 'ok', label='WDS')\n",
    "plt.plot(df_combined_WDS_EDS[f'{oxide}_y'],100*df_combined_WDS_EDS[f'Oxide % Sigma_{oxide}_y']/df_combined_WDS_EDS[f'{oxide}_y'], 'or', label='EDS')\n",
    "\n",
    "plt.xlabel('Concentration ')\n",
    "\n",
    "plt.xlabel(f'{oxide} (wt%)')\n",
    "plt.ylabel(f' error {oxide} (wt%)')\n",
    "plt.legend()"
   ]
  },
  {
   "cell_type": "code",
   "execution_count": 16,
   "metadata": {},
   "outputs": [
    {
     "name": "stderr",
     "output_type": "stream",
     "text": [
      "C:\\Users\\penny\\AppData\\Local\\Temp\\ipykernel_22624\\2913304119.py:10: SettingWithCopyWarning: \n",
      "A value is trying to be set on a copy of a slice from a DataFrame.\n",
      "Try using .loc[row_indexer,col_indexer] = value instead\n",
      "\n",
      "See the caveats in the documentation: https://pandas.pydata.org/pandas-docs/stable/user_guide/indexing.html#returning-a-view-versus-a-copy\n",
      "  df_Ele_WDS['simplename'] = df_Ele_WDS['Sample Name'].astype(str).str.replace('_WDS', '', regex=False)\n",
      "C:\\Users\\penny\\AppData\\Local\\Temp\\ipykernel_22624\\2913304119.py:11: SettingWithCopyWarning: \n",
      "A value is trying to be set on a copy of a slice from a DataFrame.\n",
      "Try using .loc[row_indexer,col_indexer] = value instead\n",
      "\n",
      "See the caveats in the documentation: https://pandas.pydata.org/pandas-docs/stable/user_guide/indexing.html#returning-a-view-versus-a-copy\n",
      "  df_Ele_EDS['simplename']=df_Ele_EDS['Sample Name']\n"
     ]
    },
    {
     "data": {
      "text/plain": [
       "[<matplotlib.lines.Line2D at 0x2bc648aced0>]"
      ]
     },
     "execution_count": 16,
     "metadata": {},
     "output_type": "execute_result"
    },
    {
     "data": {
      "image/png": "[encoded data removed]",
      "text/plain": [
       "<Figure size 640x480 with 1 Axes>"
      ]
     },
     "metadata": {},
     "output_type": "display_data"
    }
   ],
   "source": [
    "\n",
    "ele='S'\n",
    "oxide='SO3'\n",
    "\n",
    "std_str='JDF'\n",
    "\n",
    "df = df_final\n",
    "df_Ele_WDS = df.loc[df[f'Signal Type_{ele}'] == 'WDS']\n",
    "df_Ele_EDS = df.loc[df[f'Signal Type_{ele}'] == 'EDS']\n",
    "\n",
    "df_Ele_WDS['simplename'] = df_Ele_WDS['Sample Name'].astype(str).str.replace('_WDS', '', regex=False)\n",
    "df_Ele_EDS['simplename']=df_Ele_EDS['Sample Name']\n",
    "\n",
    "df_combined_WDS_EDS = pd.merge(df_Ele_WDS, df_Ele_EDS, on='simplename', how='left')\n",
    "\n",
    "## Now make a plot\n",
    "# Plot the main points\n",
    "plt.plot(df_combined_WDS_EDS[f'{oxide}_x'], df_combined_WDS_EDS[f'{oxide}_y'], '.r')\n",
    "\n",
    "# Plot the error bars\n",
    "plt.errorbar(df_combined_WDS_EDS[f'{oxide}_x'], df_combined_WDS_EDS[f'{oxide}_y'], \n",
    "             xerr=df_combined_WDS_EDS[f'Oxide % Sigma_{oxide}_x'], \n",
    "             yerr=df_combined_WDS_EDS[f'Oxide % Sigma_{oxide}_y'],\n",
    "             fmt='d', ecolor='grey', elinewidth=0.8, mfc='cyan', ms=5, mec='k', capsize=3)\n",
    "\n",
    "# Add the standards\n",
    "plt.plot(df_combined_WDS_EDS[f'{oxide}_x'].loc[df_combined_WDS_EDS['Sample Name_x'].str.contains(std_str)],\n",
    "          df_combined_WDS_EDS[f'{oxide}_y'].loc[df_combined_WDS_EDS['Sample Name_x'].str.contains(std_str)], \n",
    "          'dk', mfc='b', zorder=100)\n",
    "\n",
    "# Plot the reference lines\n",
    "max=np.max(df_combined_WDS_EDS[f'{oxide}_x'])\n",
    "min=np.min(df_combined_WDS_EDS[f'{oxide}_x'])\n",
    "plt.plot([0, max], [0, max], '-k')\n",
    "plt.plot([0, max], [0, max* 1.1], ':k')\n",
    "plt.plot([0, max], [0, max * 0.9], ':k')\n",
    "\n",
    "# Set the labels dynamically\n",
    "plt.xlabel(f'WDS {oxide} (wt%)')\n",
    "plt.ylabel(f'EDS {oxide} (wt%)')\n",
    "\n",
    "plt.plot([0.354, 0.354], [0, 0.4], '-b')\n",
    "plt.plot([0, 0.4],[0.354, 0.354],  '-b')"
   ]
  },
  {
   "cell_type": "code",
   "execution_count": 24,
   "metadata": {},
   "outputs": [
    {
     "data": {
      "text/html": [
       "<div>\n",
       "<style scoped>\n",
       "    .dataframe tbody tr th:only-of-type {\n",
       "        vertical-align: middle;\n",
       "    }\n",
       "\n",
       "    .dataframe tbody tr th {\n",
       "        vertical-align: top;\n",
       "    }\n",
       "\n",
       "    .dataframe thead th {\n",
       "        text-align: right;\n",
       "    }\n",
       "</style>\n",
       "<table border=\"1\" class=\"dataframe\">\n",
       "  <thead>\n",
       "    <tr style=\"text-align: right;\">\n",
       "      <th></th>\n",
       "      <th>Sample Name_x</th>\n",
       "      <th>Predict_Mineral_x</th>\n",
       "      <th>Predict_Probability_x</th>\n",
       "      <th>Total_wt%_x</th>\n",
       "      <th>Total_Oxide%_x</th>\n",
       "      <th>Al2O3_x</th>\n",
       "      <th>CaO_x</th>\n",
       "      <th>Cr2O3_x</th>\n",
       "      <th>Cu_x</th>\n",
       "      <th>FeOt_x</th>\n",
       "      <th>...</th>\n",
       "      <th>#_ions__Fe_y</th>\n",
       "      <th>#_ions__Ni_y</th>\n",
       "      <th>#_ions__Mo_y</th>\n",
       "      <th>#_ions__P_y</th>\n",
       "      <th>#_ions__Cr_y</th>\n",
       "      <th>#_ions__Cu_y</th>\n",
       "      <th>SampleID_y</th>\n",
       "      <th>PersonName_y</th>\n",
       "      <th>StdName_y</th>\n",
       "      <th>AnalysisDate_y</th>\n",
       "    </tr>\n",
       "  </thead>\n",
       "  <tbody>\n",
       "    <tr>\n",
       "      <th>8</th>\n",
       "      <td>M49_201_MIA_WDS</td>\n",
       "      <td>Amphibole</td>\n",
       "      <td>0.901405</td>\n",
       "      <td>98.6465</td>\n",
       "      <td>98.6465</td>\n",
       "      <td>14.3339</td>\n",
       "      <td>10.6700</td>\n",
       "      <td>NaN</td>\n",
       "      <td>NaN</td>\n",
       "      <td>10.9775</td>\n",
       "      <td>...</td>\n",
       "      <td>0.45</td>\n",
       "      <td>NaN</td>\n",
       "      <td>NaN</td>\n",
       "      <td>0.01</td>\n",
       "      <td>NaN</td>\n",
       "      <td>NaN</td>\n",
       "      <td>M49_201_MIA</td>\n",
       "      <td>Charlotte</td>\n",
       "      <td>JDFD-2</td>\n",
       "      <td>10/3/2024</td>\n",
       "    </tr>\n",
       "    <tr>\n",
       "      <th>39</th>\n",
       "      <td>M58_214_MIA</td>\n",
       "      <td>Amphibole</td>\n",
       "      <td>0.880791</td>\n",
       "      <td>99.6694</td>\n",
       "      <td>99.6694</td>\n",
       "      <td>15.0571</td>\n",
       "      <td>11.9722</td>\n",
       "      <td>NaN</td>\n",
       "      <td>NaN</td>\n",
       "      <td>9.2040</td>\n",
       "      <td>...</td>\n",
       "      <td>0.37</td>\n",
       "      <td>NaN</td>\n",
       "      <td>NaN</td>\n",
       "      <td>0.01</td>\n",
       "      <td>NaN</td>\n",
       "      <td>NaN</td>\n",
       "      <td>M58_214_MIA</td>\n",
       "      <td>Charlotte</td>\n",
       "      <td>JDFD-2</td>\n",
       "      <td>10/3/2024</td>\n",
       "    </tr>\n",
       "  </tbody>\n",
       "</table>\n",
       "<p>2 rows × 477 columns</p>\n",
       "</div>"
      ],
      "text/plain": [
       "      Sample Name_x Predict_Mineral_x  Predict_Probability_x  Total_wt%_x  \\\n",
       "8   M49_201_MIA_WDS         Amphibole               0.901405      98.6465   \n",
       "39      M58_214_MIA         Amphibole               0.880791      99.6694   \n",
       "\n",
       "    Total_Oxide%_x  Al2O3_x    CaO_x  Cr2O3_x  Cu_x   FeOt_x  ...  \\\n",
       "8          98.6465  14.3339  10.6700      NaN   NaN  10.9775  ...   \n",
       "39         99.6694  15.0571  11.9722      NaN   NaN   9.2040  ...   \n",
       "\n",
       "    #_ions__Fe_y  #_ions__Ni_y  #_ions__Mo_y  #_ions__P_y  #_ions__Cr_y  \\\n",
       "8           0.45           NaN           NaN         0.01           NaN   \n",
       "39          0.37           NaN           NaN         0.01           NaN   \n",
       "\n",
       "    #_ions__Cu_y   SampleID_y  PersonName_y  StdName_y  AnalysisDate_y  \n",
       "8            NaN  M49_201_MIA     Charlotte     JDFD-2       10/3/2024  \n",
       "39           NaN  M58_214_MIA     Charlotte     JDFD-2       10/3/2024  \n",
       "\n",
       "[2 rows x 477 columns]"
      ]
     },
     "execution_count": 24,
     "metadata": {},
     "output_type": "execute_result"
    }
   ],
   "source": [
    "oxide='SO3'\n",
    "df_test=df_combined_WDS_EDS.loc[(df_combined_WDS_EDS[f'{oxide}_x'].between(0.0, 0.15)) & (df_combined_WDS_EDS[f'{oxide}_y']>0.3)]\n",
    "df_test"
   ]
  },
  {
   "cell_type": "code",
   "execution_count": 31,
   "metadata": {},
   "outputs": [
    {
     "data": {
      "text/plain": [
       "8     M49_201_MIA_WDS\n",
       "39        M58_214_MIA\n",
       "Name: Sample Name_x, dtype: object"
      ]
     },
     "execution_count": 31,
     "metadata": {},
     "output_type": "execute_result"
    }
   ],
   "source": [
    "df_test['Sample Name_x']"
   ]
  },
  {
   "cell_type": "code",
   "execution_count": 32,
   "metadata": {},
   "outputs": [
    {
     "data": {
      "text/plain": [
       "8     M49_201_MIA\n",
       "39    M58_214_MIA\n",
       "Name: Sample Name_y, dtype: object"
      ]
     },
     "execution_count": 32,
     "metadata": {},
     "output_type": "execute_result"
    }
   ],
   "source": [
    "df_test['Sample Name_y']"
   ]
  },
  {
   "cell_type": "code",
   "execution_count": 27,
   "metadata": {},
   "outputs": [
    {
     "data": {
      "text/plain": [
       "8     0.0186\n",
       "39    0.0649\n",
       "Name: SO3_x, dtype: float64"
      ]
     },
     "execution_count": 27,
     "metadata": {},
     "output_type": "execute_result"
    }
   ],
   "source": [
    "df_test['SO3_x']"
   ]
  },
  {
   "cell_type": "code",
   "execution_count": 28,
   "metadata": {},
   "outputs": [
    {
     "data": {
      "text/plain": [
       "8     0.4372\n",
       "39    0.4172\n",
       "Name: SO3_y, dtype: float64"
      ]
     },
     "execution_count": 28,
     "metadata": {},
     "output_type": "execute_result"
    }
   ],
   "source": [
    "df_test['SO3_y']"
   ]
  },
  {
   "cell_type": "code",
   "execution_count": 30,
   "metadata": {},
   "outputs": [
    {
     "data": {
      "text/plain": [
       "[<matplotlib.lines.Line2D at 0x2bc63803e50>]"
      ]
     },
     "execution_count": 30,
     "metadata": {},
     "output_type": "execute_result"
    },
    {
     "data": {
      "image/png": "[encoded data removed]",
      "text/plain": [
       "<Figure size 640x480 with 1 Axes>"
      ]
     },
     "metadata": {},
     "output_type": "display_data"
    }
   ],
   "source": [
    "plt.plot(df_combined_WDS_EDS['CaO_x'], df_combined_WDS_EDS['CaO_y'], '.k')"
   ]
  },
  {
   "cell_type": "code",
   "execution_count": null,
   "metadata": {},
   "outputs": [],
   "source": [
    "df_test['SO3_x']"
   ]
  },
  {
   "cell_type": "code",
   "execution_count": 26,
   "metadata": {},
   "outputs": [
    {
     "data": {
      "text/plain": [
       "8     M49_201_MIA\n",
       "39    M58_214_MIA\n",
       "Name: Sample Name_y, dtype: object"
      ]
     },
     "execution_count": 26,
     "metadata": {},
     "output_type": "execute_result"
    }
   ],
   "source": [
    "df_test['Sample Name_y']"
   ]
  },
  {
   "cell_type": "code",
   "execution_count": 23,
   "metadata": {},
   "outputs": [
    {
     "data": {
      "text/plain": [
       "[<matplotlib.lines.Line2D at 0x2bc648ad450>]"
      ]
     },
     "execution_count": 23,
     "metadata": {},
     "output_type": "execute_result"
    },
    {
     "data": {
      "image/png": "[encoded data removed]",
      "text/plain": [
       "<Figure size 640x480 with 1 Axes>"
      ]
     },
     "metadata": {},
     "output_type": "display_data"
    }
   ],
   "source": [
    "plt.plot(df_test['MgO_x'], df_test['FeOt_x'], '.k')"
   ]
  },
  {
   "cell_type": "code",
   "execution_count": 55,
   "metadata": {},
   "outputs": [
    {
     "data": {
      "text/plain": [
       "(0.0, 50.0)"
      ]
     },
     "execution_count": 55,
     "metadata": {},
     "output_type": "execute_result"
    },
    {
     "data": {
      "image/png": "[encoded data removed]",
      "text/plain": [
       "<Figure size 640x480 with 1 Axes>"
      ]
     },
     "metadata": {},
     "output_type": "display_data"
    }
   ],
   "source": [
    "oxide='SO3'\n",
    "plt.plot(df_combined_WDS_EDS[f'{oxide}_x'],100*df_combined_WDS_EDS[f'Oxide % Sigma_{oxide}_x']/df_combined_WDS_EDS[f'{oxide}_x'], 'ok', label='WDS')\n",
    "plt.plot(df_combined_WDS_EDS[f'{oxide}_y'],100*df_combined_WDS_EDS[f'Oxide % Sigma_{oxide}_y']/df_combined_WDS_EDS[f'{oxide}_y'], 'or', label='EDS')\n",
    "\n",
    "plt.xlabel('Concentration ')\n",
    "\n",
    "plt.xlabel(f'{oxide} (wt%)')\n",
    "plt.ylabel(f' error {oxide} (wt%)')\n",
    "plt.legend()\n",
    "plt.ylim([0, 50])"
   ]
  },
  {
   "cell_type": "code",
   "execution_count": null,
   "metadata": {},
   "outputs": [],
   "source": []
  }
 ],
 "metadata": {
  "kernelspec": {
   "display_name": "py3115",
   "language": "python",
   "name": "python3"
  },
  "language_info": {
   "codemirror_mode": {
    "name": "ipython",
    "version": 3
   },
   "file_extension": ".py",
   "mimetype": "text/x-python",
   "name": "python",
   "nbconvert_exporter": "python",
   "pygments_lexer": "ipython3",
   "version": "3.11.5"
  }
 },
 "nbformat": 4,
 "nbformat_minor": 2
}
