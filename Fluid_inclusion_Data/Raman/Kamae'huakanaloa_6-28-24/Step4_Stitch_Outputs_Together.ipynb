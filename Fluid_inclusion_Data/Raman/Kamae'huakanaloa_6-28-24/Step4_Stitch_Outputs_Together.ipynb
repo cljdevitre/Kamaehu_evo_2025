{
 "cells": [
  {
   "cell_type": "markdown",
   "id": "0a5d30ae-095e-4406-aff7-a817c2603e2c",
   "metadata": {},
   "source": [
    "# 4. Stitch outputs together\n",
    "- Once you have fitted the weak, medium and dense diads, stitch them all together, and apply the Ne correction model"
   ]
  },
  {
   "cell_type": "code",
   "execution_count": 1,
   "id": "56f8c066-4754-4d3e-9217-ae9e8f792016",
   "metadata": {
    "tags": []
   },
   "outputs": [
    {
     "data": {
      "text/plain": [
       "'1.0.1'"
      ]
     },
     "execution_count": 1,
     "metadata": {},
     "output_type": "execute_result"
    }
   ],
   "source": [
    "import numpy as np\n",
    "import pandas as pd\n",
    "import matplotlib.pyplot as plt\n",
    "import joblib\n",
    "import DiadFit as pf\n",
    "pf.__version__"
   ]
  },
  {
   "cell_type": "code",
   "execution_count": 2,
   "id": "cab54670-2019-40be-b7d8-588189ac9ced",
   "metadata": {
    "tags": []
   },
   "outputs": [],
   "source": [
    "# Load in settings, paths, file extensions etc. that you saved in step 1\n",
    "meta_path, spectra_path, spectra_filetype, prefix, str_prefix, spectra_file_ext, meta_file_ext, TruPower=pf.get_settings()"
   ]
  },
  {
   "cell_type": "markdown",
   "id": "8230f033-6c2c-4494-a554-885ab21b2e21",
   "metadata": {},
   "source": [
    "## Load in specra, and combine"
   ]
  },
  {
   "cell_type": "code",
   "execution_count": 3,
   "id": "0b0bb450-0872-44f7-b99e-2585f994efde",
   "metadata": {
    "tags": []
   },
   "outputs": [
    {
     "data": {
      "text/html": [
       "<div>\n",
       "<style scoped>\n",
       "    .dataframe tbody tr th:only-of-type {\n",
       "        vertical-align: middle;\n",
       "    }\n",
       "\n",
       "    .dataframe tbody tr th {\n",
       "        vertical-align: top;\n",
       "    }\n",
       "\n",
       "    .dataframe thead th {\n",
       "        text-align: right;\n",
       "    }\n",
       "</style>\n",
       "<table border=\"1\" class=\"dataframe\">\n",
       "  <thead>\n",
       "    <tr style=\"text-align: right;\">\n",
       "      <th></th>\n",
       "      <th>filename</th>\n",
       "      <th>Splitting</th>\n",
       "      <th>Split_σ</th>\n",
       "      <th>Diad1_Combofit_Cent</th>\n",
       "      <th>Diad1_cent_err</th>\n",
       "      <th>Diad1_Combofit_Height</th>\n",
       "      <th>Diad1_Voigt_Cent</th>\n",
       "      <th>Diad1_Voigt_Area</th>\n",
       "      <th>Diad1_Voigt_Sigma</th>\n",
       "      <th>Diad1_Residual</th>\n",
       "      <th>...</th>\n",
       "      <th>Diad1_Asym70</th>\n",
       "      <th>Diad1_Yuan2017_sym_factor</th>\n",
       "      <th>Diad1_Remigi2021_BSF</th>\n",
       "      <th>Diad2_Asym50</th>\n",
       "      <th>Diad2_Asym70</th>\n",
       "      <th>Diad2_Yuan2017_sym_factor</th>\n",
       "      <th>Diad2_Remigi2021_BSF</th>\n",
       "      <th>Diad1_PDF_Model</th>\n",
       "      <th>Diad2_PDF_Model</th>\n",
       "      <th>Standard</th>\n",
       "    </tr>\n",
       "  </thead>\n",
       "  <tbody>\n",
       "    <tr>\n",
       "      <th>0</th>\n",
       "      <td>186-11-114-A_CRR_DiadFit</td>\n",
       "      <td>103.931203</td>\n",
       "      <td>0.020270</td>\n",
       "      <td>1284.136058</td>\n",
       "      <td>0.018951</td>\n",
       "      <td>106.136420</td>\n",
       "      <td>1284.136058</td>\n",
       "      <td>307.554218</td>\n",
       "      <td>1.123759</td>\n",
       "      <td>2.018577</td>\n",
       "      <td>...</td>\n",
       "      <td>1.226119</td>\n",
       "      <td>0.413722</td>\n",
       "      <td>0.021176</td>\n",
       "      <td>1.080831</td>\n",
       "      <td>1.007874</td>\n",
       "      <td>0.121588</td>\n",
       "      <td>0.006453</td>\n",
       "      <td>PseudoVoigtModel</td>\n",
       "      <td>PseudoVoigtModel</td>\n",
       "      <td>No</td>\n",
       "    </tr>\n",
       "    <tr>\n",
       "      <th>1</th>\n",
       "      <td>186-11-114-B</td>\n",
       "      <td>103.782753</td>\n",
       "      <td>0.023629</td>\n",
       "      <td>1284.414901</td>\n",
       "      <td>0.021964</td>\n",
       "      <td>81.920505</td>\n",
       "      <td>1284.414901</td>\n",
       "      <td>217.385394</td>\n",
       "      <td>1.013899</td>\n",
       "      <td>1.628698</td>\n",
       "      <td>...</td>\n",
       "      <td>1.172775</td>\n",
       "      <td>0.220261</td>\n",
       "      <td>0.024753</td>\n",
       "      <td>1.012987</td>\n",
       "      <td>1.038523</td>\n",
       "      <td>0.019652</td>\n",
       "      <td>0.008744</td>\n",
       "      <td>PseudoVoigtModel</td>\n",
       "      <td>PseudoVoigtModel</td>\n",
       "      <td>No</td>\n",
       "    </tr>\n",
       "    <tr>\n",
       "      <th>2</th>\n",
       "      <td>186-11-116-A</td>\n",
       "      <td>103.600419</td>\n",
       "      <td>0.030154</td>\n",
       "      <td>1284.800906</td>\n",
       "      <td>0.028215</td>\n",
       "      <td>56.499161</td>\n",
       "      <td>1284.800906</td>\n",
       "      <td>129.049184</td>\n",
       "      <td>0.837116</td>\n",
       "      <td>1.501801</td>\n",
       "      <td>...</td>\n",
       "      <td>1.286595</td>\n",
       "      <td>0.185203</td>\n",
       "      <td>0.029633</td>\n",
       "      <td>1.107735</td>\n",
       "      <td>1.036538</td>\n",
       "      <td>0.135704</td>\n",
       "      <td>0.010630</td>\n",
       "      <td>PseudoVoigtModel</td>\n",
       "      <td>PseudoVoigtModel</td>\n",
       "      <td>No</td>\n",
       "    </tr>\n",
       "    <tr>\n",
       "      <th>3</th>\n",
       "      <td>186-11-116-B</td>\n",
       "      <td>103.825943</td>\n",
       "      <td>0.012689</td>\n",
       "      <td>1284.382341</td>\n",
       "      <td>0.011293</td>\n",
       "      <td>196.953096</td>\n",
       "      <td>1284.382341</td>\n",
       "      <td>544.995386</td>\n",
       "      <td>1.047494</td>\n",
       "      <td>2.669507</td>\n",
       "      <td>...</td>\n",
       "      <td>1.191763</td>\n",
       "      <td>0.361829</td>\n",
       "      <td>0.010637</td>\n",
       "      <td>1.087059</td>\n",
       "      <td>1.156794</td>\n",
       "      <td>0.126682</td>\n",
       "      <td>0.003361</td>\n",
       "      <td>PseudoVoigtModel</td>\n",
       "      <td>PseudoVoigtModel</td>\n",
       "      <td>No</td>\n",
       "    </tr>\n",
       "    <tr>\n",
       "      <th>4</th>\n",
       "      <td>186-11-116-C_CRR_DiadFit</td>\n",
       "      <td>103.905479</td>\n",
       "      <td>0.016533</td>\n",
       "      <td>1284.170118</td>\n",
       "      <td>0.015181</td>\n",
       "      <td>127.046088</td>\n",
       "      <td>1284.170118</td>\n",
       "      <td>366.829946</td>\n",
       "      <td>1.121840</td>\n",
       "      <td>1.958926</td>\n",
       "      <td>...</td>\n",
       "      <td>1.123662</td>\n",
       "      <td>0.168013</td>\n",
       "      <td>0.017660</td>\n",
       "      <td>1.017391</td>\n",
       "      <td>1.041139</td>\n",
       "      <td>0.027070</td>\n",
       "      <td>0.005528</td>\n",
       "      <td>PseudoVoigtModel</td>\n",
       "      <td>PseudoVoigtModel</td>\n",
       "      <td>No</td>\n",
       "    </tr>\n",
       "  </tbody>\n",
       "</table>\n",
       "<p>5 rows × 50 columns</p>\n",
       "</div>"
      ],
      "text/plain": [
       "                   filename   Splitting   Split_σ  Diad1_Combofit_Cent  \\\n",
       "0  186-11-114-A_CRR_DiadFit  103.931203  0.020270          1284.136058   \n",
       "1              186-11-114-B  103.782753  0.023629          1284.414901   \n",
       "2              186-11-116-A  103.600419  0.030154          1284.800906   \n",
       "3              186-11-116-B  103.825943  0.012689          1284.382341   \n",
       "4  186-11-116-C_CRR_DiadFit  103.905479  0.016533          1284.170118   \n",
       "\n",
       "   Diad1_cent_err  Diad1_Combofit_Height  Diad1_Voigt_Cent  Diad1_Voigt_Area  \\\n",
       "0        0.018951             106.136420       1284.136058        307.554218   \n",
       "1        0.021964              81.920505       1284.414901        217.385394   \n",
       "2        0.028215              56.499161       1284.800906        129.049184   \n",
       "3        0.011293             196.953096       1284.382341        544.995386   \n",
       "4        0.015181             127.046088       1284.170118        366.829946   \n",
       "\n",
       "   Diad1_Voigt_Sigma  Diad1_Residual  ...  Diad1_Asym70  \\\n",
       "0           1.123759        2.018577  ...      1.226119   \n",
       "1           1.013899        1.628698  ...      1.172775   \n",
       "2           0.837116        1.501801  ...      1.286595   \n",
       "3           1.047494        2.669507  ...      1.191763   \n",
       "4           1.121840        1.958926  ...      1.123662   \n",
       "\n",
       "   Diad1_Yuan2017_sym_factor Diad1_Remigi2021_BSF  Diad2_Asym50  Diad2_Asym70  \\\n",
       "0                   0.413722             0.021176      1.080831      1.007874   \n",
       "1                   0.220261             0.024753      1.012987      1.038523   \n",
       "2                   0.185203             0.029633      1.107735      1.036538   \n",
       "3                   0.361829             0.010637      1.087059      1.156794   \n",
       "4                   0.168013             0.017660      1.017391      1.041139   \n",
       "\n",
       "   Diad2_Yuan2017_sym_factor  Diad2_Remigi2021_BSF   Diad1_PDF_Model  \\\n",
       "0                   0.121588              0.006453  PseudoVoigtModel   \n",
       "1                   0.019652              0.008744  PseudoVoigtModel   \n",
       "2                   0.135704              0.010630  PseudoVoigtModel   \n",
       "3                   0.126682              0.003361  PseudoVoigtModel   \n",
       "4                   0.027070              0.005528  PseudoVoigtModel   \n",
       "\n",
       "    Diad2_PDF_Model  Standard  \n",
       "0  PseudoVoigtModel        No  \n",
       "1  PseudoVoigtModel        No  \n",
       "2  PseudoVoigtModel        No  \n",
       "3  PseudoVoigtModel        No  \n",
       "4  PseudoVoigtModel        No  \n",
       "\n",
       "[5 rows x 50 columns]"
      ]
     },
     "execution_count": 3,
     "metadata": {},
     "output_type": "execute_result"
    }
   ],
   "source": [
    "import os\n",
    "df2=pf.merge_fit_files(path=os.getcwd())\n",
    "df2.head()"
   ]
  },
  {
   "cell_type": "markdown",
   "id": "6449c9b4-d538-4d37-ad78-49c87aa677af",
   "metadata": {},
   "source": [
    "## First, get the metadata for this day"
   ]
  },
  {
   "cell_type": "code",
   "execution_count": 4,
   "id": "027e3ea1-f4ef-4c53-a57d-977e1f639ec9",
   "metadata": {
    "tags": []
   },
   "outputs": [
    {
     "data": {
      "text/plain": [
       "'004 FG04-A1-16-start-rep1.txt'"
      ]
     },
     "execution_count": 4,
     "metadata": {},
     "output_type": "execute_result"
    }
   ],
   "source": [
    "# Put the common string you can in all your Ne lines here\n",
    "diad_meta=pf.get_files(path=meta_path,\n",
    "file_ext=meta_file_ext, exclude_str=['Ne', 'NE', 'Si', 'nodiad', 'Ne', 'Cap','window','Video', 'nodiad','diad','Series','no_diad','diad','Series','unquant'],\n",
    " sort=True)\n",
    "diad_meta[0]"
   ]
  },
  {
   "cell_type": "markdown",
   "id": "378575ca-336b-4f04-bc6e-cf397dfdc56e",
   "metadata": {},
   "source": [
    "## Now get all the important information out of the metadata files"
   ]
  },
  {
   "cell_type": "code",
   "execution_count": 5,
   "id": "57ebb7b9-5c4f-4b49-9686-36f0d2ec9e8d",
   "metadata": {
    "tags": []
   },
   "outputs": [
    {
     "name": "stderr",
     "output_type": "stream",
     "text": [
      "100%|██████████| 113/113 [00:00<00:00, 443.17it/s]"
     ]
    },
    {
     "name": "stdout",
     "output_type": "stream",
     "text": [
      "Done\n"
     ]
    },
    {
     "name": "stderr",
     "output_type": "stream",
     "text": [
      "\n"
     ]
    },
    {
     "data": {
      "text/html": [
       "<div>\n",
       "<style scoped>\n",
       "    .dataframe tbody tr th:only-of-type {\n",
       "        vertical-align: middle;\n",
       "    }\n",
       "\n",
       "    .dataframe tbody tr th {\n",
       "        vertical-align: top;\n",
       "    }\n",
       "\n",
       "    .dataframe thead th {\n",
       "        text-align: right;\n",
       "    }\n",
       "</style>\n",
       "<table border=\"1\" class=\"dataframe\">\n",
       "  <thead>\n",
       "    <tr style=\"text-align: right;\">\n",
       "      <th></th>\n",
       "      <th>filename</th>\n",
       "      <th>date</th>\n",
       "      <th>Month</th>\n",
       "      <th>Day</th>\n",
       "      <th>power (mW)</th>\n",
       "      <th>Int_time (s)</th>\n",
       "      <th>accumulations</th>\n",
       "      <th>Mag (X)</th>\n",
       "      <th>duration</th>\n",
       "      <th>24hr_time</th>\n",
       "      <th>sec since midnight</th>\n",
       "      <th>Spectral Center</th>\n",
       "    </tr>\n",
       "  </thead>\n",
       "  <tbody>\n",
       "    <tr>\n",
       "      <th>0</th>\n",
       "      <td>FG04-A1-16-start-rep1.txt</td>\n",
       "      <td>June 28, 2024\\n</td>\n",
       "      <td>June</td>\n",
       "      <td>28.0</td>\n",
       "      <td>6.049</td>\n",
       "      <td>45.0</td>\n",
       "      <td>5.0</td>\n",
       "      <td>50.0</td>\n",
       "      <td>['0h', '3m', '46s']</td>\n",
       "      <td>11:29:07 AM\\n</td>\n",
       "      <td>41347.0</td>\n",
       "      <td>1324.964</td>\n",
       "    </tr>\n",
       "    <tr>\n",
       "      <th>1</th>\n",
       "      <td>FG04-A1-16-start-rep2.txt</td>\n",
       "      <td>June 28, 2024\\n</td>\n",
       "      <td>June</td>\n",
       "      <td>28.0</td>\n",
       "      <td>6.091</td>\n",
       "      <td>45.0</td>\n",
       "      <td>5.0</td>\n",
       "      <td>50.0</td>\n",
       "      <td>['0h', '3m', '46s']</td>\n",
       "      <td>11:33:49 AM\\n</td>\n",
       "      <td>41629.0</td>\n",
       "      <td>1324.964</td>\n",
       "    </tr>\n",
       "    <tr>\n",
       "      <th>2</th>\n",
       "      <td>FG04-A1-16-start-rep3.txt</td>\n",
       "      <td>June 28, 2024\\n</td>\n",
       "      <td>June</td>\n",
       "      <td>28.0</td>\n",
       "      <td>6.129</td>\n",
       "      <td>45.0</td>\n",
       "      <td>5.0</td>\n",
       "      <td>50.0</td>\n",
       "      <td>['0h', '3m', '46s']</td>\n",
       "      <td>11:39:33 AM\\n</td>\n",
       "      <td>41973.0</td>\n",
       "      <td>1324.964</td>\n",
       "    </tr>\n",
       "    <tr>\n",
       "      <th>3</th>\n",
       "      <td>FG04-A1-4-start-rep1.txt</td>\n",
       "      <td>June 28, 2024\\n</td>\n",
       "      <td>June</td>\n",
       "      <td>28.0</td>\n",
       "      <td>6.132</td>\n",
       "      <td>45.0</td>\n",
       "      <td>5.0</td>\n",
       "      <td>50.0</td>\n",
       "      <td>['0h', '3m', '46s']</td>\n",
       "      <td>11:44:01 AM\\n</td>\n",
       "      <td>42241.0</td>\n",
       "      <td>1324.964</td>\n",
       "    </tr>\n",
       "    <tr>\n",
       "      <th>4</th>\n",
       "      <td>FG04-A1-4-start-rep2.txt</td>\n",
       "      <td>June 28, 2024\\n</td>\n",
       "      <td>June</td>\n",
       "      <td>28.0</td>\n",
       "      <td>6.123</td>\n",
       "      <td>45.0</td>\n",
       "      <td>5.0</td>\n",
       "      <td>50.0</td>\n",
       "      <td>['0h', '3m', '46s']</td>\n",
       "      <td>11:49:06 AM\\n</td>\n",
       "      <td>42546.0</td>\n",
       "      <td>1324.964</td>\n",
       "    </tr>\n",
       "  </tbody>\n",
       "</table>\n",
       "</div>"
      ],
      "text/plain": [
       "                    filename             date Month   Day  power (mW)  \\\n",
       "0  FG04-A1-16-start-rep1.txt  June 28, 2024\\n  June  28.0       6.049   \n",
       "1  FG04-A1-16-start-rep2.txt  June 28, 2024\\n  June  28.0       6.091   \n",
       "2  FG04-A1-16-start-rep3.txt  June 28, 2024\\n  June  28.0       6.129   \n",
       "3   FG04-A1-4-start-rep1.txt  June 28, 2024\\n  June  28.0       6.132   \n",
       "4   FG04-A1-4-start-rep2.txt  June 28, 2024\\n  June  28.0       6.123   \n",
       "\n",
       "   Int_time (s)  accumulations  Mag (X)             duration      24hr_time  \\\n",
       "0          45.0            5.0     50.0  ['0h', '3m', '46s']  11:29:07 AM\\n   \n",
       "1          45.0            5.0     50.0  ['0h', '3m', '46s']  11:33:49 AM\\n   \n",
       "2          45.0            5.0     50.0  ['0h', '3m', '46s']  11:39:33 AM\\n   \n",
       "3          45.0            5.0     50.0  ['0h', '3m', '46s']  11:44:01 AM\\n   \n",
       "4          45.0            5.0     50.0  ['0h', '3m', '46s']  11:49:06 AM\\n   \n",
       "\n",
       "   sec since midnight  Spectral Center  \n",
       "0             41347.0         1324.964  \n",
       "1             41629.0         1324.964  \n",
       "2             41973.0         1324.964  \n",
       "3             42241.0         1324.964  \n",
       "4             42546.0         1324.964  "
      ]
     },
     "execution_count": 5,
     "metadata": {},
     "output_type": "execute_result"
    }
   ],
   "source": [
    "# This will only work for WITEC - for other vendors, you might have to use the file datastamp. See the HORIBA example\n",
    "meta=pf.stitch_metadata_in_loop_witec(path=meta_path, \n",
    "Allfiles=diad_meta, prefix=prefix, str_prefix=str_prefix,\n",
    "trupower=TruPower)\n",
    "meta.head()"
   ]
  },
  {
   "cell_type": "markdown",
   "id": "b7a6fbc0-2b4a-4f4b-8cfd-cc227047d833",
   "metadata": {},
   "source": [
    "## Then get a simple file name you can stitch with the spectra"
   ]
  },
  {
   "cell_type": "code",
   "execution_count": 6,
   "id": "ea140384-9cb9-41bf-b57e-eb16120afe12",
   "metadata": {
    "tags": []
   },
   "outputs": [
    {
     "name": "stdout",
     "output_type": "stream",
     "text": [
      "good job, no duplicate file names\n"
     ]
    },
    {
     "data": {
      "text/plain": [
       "'FG04-A1-16-start-rep1'"
      ]
     },
     "execution_count": 6,
     "metadata": {},
     "output_type": "execute_result"
    }
   ],
   "source": [
    "file_m=pf.extracting_filenames_generic(names=meta['filename'],\n",
    "   file_ext=meta_file_ext)\n",
    "# Checks they are all unique\n",
    "file_m[0]"
   ]
  },
  {
   "cell_type": "code",
   "execution_count": 7,
   "id": "6873c9b3",
   "metadata": {},
   "outputs": [
    {
     "data": {
      "text/plain": [
       "array(['FG04-A1-16-start-rep1', 'FG04-A1-16-start-rep2',\n",
       "       'FG04-A1-16-start-rep3', 'FG04-A1-4-start-rep1',\n",
       "       'FG04-A1-4-start-rep2', 'FG04-A1-4-start-rep3', '186-11-111-A',\n",
       "       '186-11-111-B', '186-11-111-C', '186-11-111-D', '186-11-111-E',\n",
       "       '186-11-111-F', '186-11-111-G', '186-11-112-A', '186-11-112-B',\n",
       "       '186-11-113-A', '186-11-113-B', '186-11-113-C', '186-11-113-D',\n",
       "       '186-11-114-A', '186-11-114-B', '186-11-116-A', '186-11-116-B',\n",
       "       '186-11-116-C', '186-11-115-A', '186-11-115-B', '186-11-117-B',\n",
       "       '186-11-117-C', '186-11-117-A', '186-11-117-D',\n",
       "       'FG04-A1-16-end-rep4', 'FG04-A1-16-end-rep5',\n",
       "       'FG04-A1-16-end-rep6', 'FG04-A1-4-end-rep4', 'FG04-A1-4-end-rep5',\n",
       "       'FG04-A1-4-end-rep6'], dtype=object)"
      ]
     },
     "execution_count": 7,
     "metadata": {},
     "output_type": "execute_result"
    }
   ],
   "source": [
    "for i in range(len(file_m)):\n",
    "    file_m[i] = file_m[i].replace(\"--Information\", \"\")\n",
    "file_m"
   ]
  },
  {
   "cell_type": "markdown",
   "id": "80671930-57b4-476b-aec2-0aaf23f072b5",
   "metadata": {},
   "source": [
    "## Now get filename from spectra into same form as metadata"
   ]
  },
  {
   "cell_type": "code",
   "execution_count": 8,
   "id": "5f50eae0-1a22-4d35-ba87-0d853343d859",
   "metadata": {
    "tags": []
   },
   "outputs": [
    {
     "name": "stdout",
     "output_type": "stream",
     "text": [
      "good job, no duplicate file names\n",
      "186-11-114-A\n"
     ]
    }
   ],
   "source": [
    "# Remove these to get the pure file name\n",
    "file_s=pf.extracting_filenames_generic(\n",
    "    names=df2['filename'].reset_index(drop=True),\n",
    "   file_ext=spectra_file_ext)\n",
    "\n",
    "# Remove the cosmic rays, as doesnt have it in the metatdata\n",
    "file_s = np.char.replace(file_s.astype(str), \"_CRR_DiadFit\", \"\")\n",
    "print(file_s[0])"
   ]
  },
  {
   "cell_type": "code",
   "execution_count": 9,
   "id": "3d1dbc89",
   "metadata": {},
   "outputs": [
    {
     "data": {
      "text/plain": [
       "array(['186-11-114-A', '186-11-114-B', '186-11-116-A', '186-11-116-B',\n",
       "       '186-11-116-C', '186-11-115-B', '186-11-111-A', '186-11-111-B',\n",
       "       '186-11-111-C', '186-11-111-D', '186-11-111-E', '186-11-111-F',\n",
       "       '186-11-111-G', '186-11-112-A', '186-11-112-B', '186-11-113-A',\n",
       "       '186-11-113-B', '186-11-113-C', '186-11-113-D', '186-11-115-A',\n",
       "       '186-11-117-B', '186-11-117-C', '186-11-117-A', '186-11-117-D',\n",
       "       'FG04-A1-16-start-rep1', 'FG04-A1-16-start-rep2',\n",
       "       'FG04-A1-16-start-rep3', 'FG04-A1-4-start-rep1',\n",
       "       'FG04-A1-4-start-rep2', 'FG04-A1-4-start-rep3',\n",
       "       'FG04-A1-16-end-rep4', 'FG04-A1-16-end-rep5',\n",
       "       'FG04-A1-16-end-rep6', 'FG04-A1-4-end-rep4', 'FG04-A1-4-end-rep5',\n",
       "       'FG04-A1-4-end-rep6'], dtype='<U21')"
      ]
     },
     "execution_count": 9,
     "metadata": {},
     "output_type": "execute_result"
    }
   ],
   "source": [
    "for i in range(len(file_s)):\n",
    "    file_s[i] = file_s[i].replace(\"--Spec.Data 1\", \"\")\n",
    "file_s"
   ]
  },
  {
   "cell_type": "code",
   "execution_count": 10,
   "id": "51df3d2d-72d3-44fa-a076-b087cfdb5eef",
   "metadata": {
    "tags": []
   },
   "outputs": [
    {
     "data": {
      "text/html": [
       "<div>\n",
       "<style scoped>\n",
       "    .dataframe tbody tr th:only-of-type {\n",
       "        vertical-align: middle;\n",
       "    }\n",
       "\n",
       "    .dataframe tbody tr th {\n",
       "        vertical-align: top;\n",
       "    }\n",
       "\n",
       "    .dataframe thead th {\n",
       "        text-align: right;\n",
       "    }\n",
       "</style>\n",
       "<table border=\"1\" class=\"dataframe\">\n",
       "  <thead>\n",
       "    <tr style=\"text-align: right;\">\n",
       "      <th></th>\n",
       "      <th>filename</th>\n",
       "      <th>Splitting</th>\n",
       "      <th>Split_σ</th>\n",
       "      <th>Diad1_Combofit_Cent</th>\n",
       "      <th>Diad1_cent_err</th>\n",
       "      <th>Diad1_Combofit_Height</th>\n",
       "      <th>Diad1_Voigt_Cent</th>\n",
       "      <th>Diad1_Voigt_Area</th>\n",
       "      <th>Diad1_Voigt_Sigma</th>\n",
       "      <th>Diad1_Residual</th>\n",
       "      <th>...</th>\n",
       "      <th>Month</th>\n",
       "      <th>Day</th>\n",
       "      <th>power (mW)</th>\n",
       "      <th>Int_time (s)</th>\n",
       "      <th>accumulations</th>\n",
       "      <th>Mag (X)</th>\n",
       "      <th>duration</th>\n",
       "      <th>24hr_time</th>\n",
       "      <th>sec since midnight</th>\n",
       "      <th>Spectral Center</th>\n",
       "    </tr>\n",
       "  </thead>\n",
       "  <tbody>\n",
       "    <tr>\n",
       "      <th>0</th>\n",
       "      <td>186-11-114-A</td>\n",
       "      <td>103.931203</td>\n",
       "      <td>0.020270</td>\n",
       "      <td>1284.136058</td>\n",
       "      <td>0.018951</td>\n",
       "      <td>106.136420</td>\n",
       "      <td>1284.136058</td>\n",
       "      <td>307.554218</td>\n",
       "      <td>1.123759</td>\n",
       "      <td>2.018577</td>\n",
       "      <td>...</td>\n",
       "      <td>June</td>\n",
       "      <td>28.0</td>\n",
       "      <td>6.106</td>\n",
       "      <td>60.0</td>\n",
       "      <td>4.0</td>\n",
       "      <td>50.0</td>\n",
       "      <td>['0h', '4m', '1s']</td>\n",
       "      <td>2:25:57 PM\\n</td>\n",
       "      <td>51957.0</td>\n",
       "      <td>1324.964</td>\n",
       "    </tr>\n",
       "    <tr>\n",
       "      <th>1</th>\n",
       "      <td>186-11-114-B</td>\n",
       "      <td>103.782753</td>\n",
       "      <td>0.023629</td>\n",
       "      <td>1284.414901</td>\n",
       "      <td>0.021964</td>\n",
       "      <td>81.920505</td>\n",
       "      <td>1284.414901</td>\n",
       "      <td>217.385394</td>\n",
       "      <td>1.013899</td>\n",
       "      <td>1.628698</td>\n",
       "      <td>...</td>\n",
       "      <td>June</td>\n",
       "      <td>28.0</td>\n",
       "      <td>6.083</td>\n",
       "      <td>60.0</td>\n",
       "      <td>4.0</td>\n",
       "      <td>50.0</td>\n",
       "      <td>['0h', '4m', '1s']</td>\n",
       "      <td>2:42:31 PM\\n</td>\n",
       "      <td>52951.0</td>\n",
       "      <td>1324.964</td>\n",
       "    </tr>\n",
       "    <tr>\n",
       "      <th>2</th>\n",
       "      <td>186-11-116-A</td>\n",
       "      <td>103.600419</td>\n",
       "      <td>0.030154</td>\n",
       "      <td>1284.800906</td>\n",
       "      <td>0.028215</td>\n",
       "      <td>56.499161</td>\n",
       "      <td>1284.800906</td>\n",
       "      <td>129.049184</td>\n",
       "      <td>0.837116</td>\n",
       "      <td>1.501801</td>\n",
       "      <td>...</td>\n",
       "      <td>June</td>\n",
       "      <td>28.0</td>\n",
       "      <td>6.039</td>\n",
       "      <td>60.0</td>\n",
       "      <td>4.0</td>\n",
       "      <td>50.0</td>\n",
       "      <td>['0h', '4m', '1s']</td>\n",
       "      <td>2:51:16 PM\\n</td>\n",
       "      <td>53476.0</td>\n",
       "      <td>1324.964</td>\n",
       "    </tr>\n",
       "    <tr>\n",
       "      <th>3</th>\n",
       "      <td>186-11-116-B</td>\n",
       "      <td>103.825943</td>\n",
       "      <td>0.012689</td>\n",
       "      <td>1284.382341</td>\n",
       "      <td>0.011293</td>\n",
       "      <td>196.953096</td>\n",
       "      <td>1284.382341</td>\n",
       "      <td>544.995386</td>\n",
       "      <td>1.047494</td>\n",
       "      <td>2.669507</td>\n",
       "      <td>...</td>\n",
       "      <td>June</td>\n",
       "      <td>28.0</td>\n",
       "      <td>6.039</td>\n",
       "      <td>60.0</td>\n",
       "      <td>4.0</td>\n",
       "      <td>100.0</td>\n",
       "      <td>['0h', '4m', '1s']</td>\n",
       "      <td>3:01:52 PM\\n</td>\n",
       "      <td>54112.0</td>\n",
       "      <td>1324.964</td>\n",
       "    </tr>\n",
       "    <tr>\n",
       "      <th>4</th>\n",
       "      <td>186-11-116-C</td>\n",
       "      <td>103.905479</td>\n",
       "      <td>0.016533</td>\n",
       "      <td>1284.170118</td>\n",
       "      <td>0.015181</td>\n",
       "      <td>127.046088</td>\n",
       "      <td>1284.170118</td>\n",
       "      <td>366.829946</td>\n",
       "      <td>1.121840</td>\n",
       "      <td>1.958926</td>\n",
       "      <td>...</td>\n",
       "      <td>June</td>\n",
       "      <td>28.0</td>\n",
       "      <td>6.043</td>\n",
       "      <td>60.0</td>\n",
       "      <td>4.0</td>\n",
       "      <td>100.0</td>\n",
       "      <td>['0h', '4m', '1s']</td>\n",
       "      <td>3:08:50 PM\\n</td>\n",
       "      <td>54530.0</td>\n",
       "      <td>1324.964</td>\n",
       "    </tr>\n",
       "  </tbody>\n",
       "</table>\n",
       "<p>5 rows × 61 columns</p>\n",
       "</div>"
      ],
      "text/plain": [
       "       filename   Splitting   Split_σ  Diad1_Combofit_Cent  Diad1_cent_err  \\\n",
       "0  186-11-114-A  103.931203  0.020270          1284.136058        0.018951   \n",
       "1  186-11-114-B  103.782753  0.023629          1284.414901        0.021964   \n",
       "2  186-11-116-A  103.600419  0.030154          1284.800906        0.028215   \n",
       "3  186-11-116-B  103.825943  0.012689          1284.382341        0.011293   \n",
       "4  186-11-116-C  103.905479  0.016533          1284.170118        0.015181   \n",
       "\n",
       "   Diad1_Combofit_Height  Diad1_Voigt_Cent  Diad1_Voigt_Area  \\\n",
       "0             106.136420       1284.136058        307.554218   \n",
       "1              81.920505       1284.414901        217.385394   \n",
       "2              56.499161       1284.800906        129.049184   \n",
       "3             196.953096       1284.382341        544.995386   \n",
       "4             127.046088       1284.170118        366.829946   \n",
       "\n",
       "   Diad1_Voigt_Sigma  Diad1_Residual  ...  Month   Day power (mW)  \\\n",
       "0           1.123759        2.018577  ...   June  28.0      6.106   \n",
       "1           1.013899        1.628698  ...   June  28.0      6.083   \n",
       "2           0.837116        1.501801  ...   June  28.0      6.039   \n",
       "3           1.047494        2.669507  ...   June  28.0      6.039   \n",
       "4           1.121840        1.958926  ...   June  28.0      6.043   \n",
       "\n",
       "   Int_time (s)  accumulations  Mag (X)            duration     24hr_time  \\\n",
       "0          60.0            4.0     50.0  ['0h', '4m', '1s']  2:25:57 PM\\n   \n",
       "1          60.0            4.0     50.0  ['0h', '4m', '1s']  2:42:31 PM\\n   \n",
       "2          60.0            4.0     50.0  ['0h', '4m', '1s']  2:51:16 PM\\n   \n",
       "3          60.0            4.0    100.0  ['0h', '4m', '1s']  3:01:52 PM\\n   \n",
       "4          60.0            4.0    100.0  ['0h', '4m', '1s']  3:08:50 PM\\n   \n",
       "\n",
       "   sec since midnight  Spectral Center  \n",
       "0             51957.0         1324.964  \n",
       "1             52951.0         1324.964  \n",
       "2             53476.0         1324.964  \n",
       "3             54112.0         1324.964  \n",
       "4             54530.0         1324.964  \n",
       "\n",
       "[5 rows x 61 columns]"
      ]
     },
     "execution_count": 10,
     "metadata": {},
     "output_type": "execute_result"
    }
   ],
   "source": [
    "# Combining them together, if the form above matches, e.g. checking one doesnt have a suffix and the other one does\n",
    "\n",
    "meta['filename']=file_m\n",
    "df2['filename']=file_s\n",
    "df_combo=pd.merge(df2, meta, on='filename').reset_index(drop=True)\n",
    "df_combo.head()"
   ]
  },
  {
   "cell_type": "markdown",
   "id": "54b229a4-026d-4e4e-ab0a-ed0362566919",
   "metadata": {},
   "source": [
    "## If you have secondary phases, now is the time to merge those in"
   ]
  },
  {
   "cell_type": "code",
   "execution_count": 11,
   "id": "bc38474f-45cd-4fa5-beef-49db69e82989",
   "metadata": {
    "tags": []
   },
   "outputs": [
    {
     "name": "stdout",
     "output_type": "stream",
     "text": [
      "Made a df!\n",
      "good job, no duplicate file names\n"
     ]
    }
   ],
   "source": [
    "df_combo_sec_phase=pf.merge_in_carb_SO2(\n",
    "df_combo=df_combo, file1_name='Carb_Peak_fits.xlsx', file2_name='SO2_Peak_fits.xlsx', \n",
    "prefix=prefix, str_prefix=str_prefix, file_ext=spectra_file_ext)\n",
    "#df_combo_sec_phase.to_excel('FI_fitting_w_sec_phases.xlsx', index=False)"
   ]
  },
  {
   "cell_type": "markdown",
   "id": "663ac0cc",
   "metadata": {},
   "source": [
    "## If you have SO2, now is the time to calculate the molar proportion of SO2"
   ]
  },
  {
   "cell_type": "code",
   "execution_count": 12,
   "id": "d78b7bcf",
   "metadata": {
    "tags": []
   },
   "outputs": [],
   "source": [
    "if 'Peak_Area_SO2' in df_combo_sec_phase:\n",
    "    \n",
    "\n",
    "        SO2_mol_ratio=pf.calculate_SO2_CO2_ratio(SO2_area=df_combo_sec_phase['Peak_Area_SO2'], \n",
    "        diad1_area=df_combo_sec_phase['Diad1_Voigt_Area'], diad2_area=df_combo_sec_phase['Diad2_Voigt_Area'], \n",
    "                SO2_cross_sec=5.3, diad1_cross_sec=0.89, diad2_cross_sec=1.4)\n",
    "        \n",
    "\n",
    "        df_combo_sec_phase['SO2_mol_ratio']=SO2_mol_ratio"
   ]
  },
  {
   "cell_type": "markdown",
   "id": "cb9bb968",
   "metadata": {},
   "source": [
    "## Now we calculate the density using the UC Berkeley Densimeter. \n",
    "- If you have your own densimeter, I am happy to add a function for it if you email me (penny_wieser@berkeley.edu)\n",
    "- This particular function propagates the uncertainty on 1) The neon line correction model 2) the peak fits of the diads themselves 3) The densimeter. "
   ]
  },
  {
   "cell_type": "code",
   "execution_count": 13,
   "id": "fe4ba00c",
   "metadata": {
    "tags": []
   },
   "outputs": [
    {
     "name": "stdout",
     "output_type": "stream",
     "text": [
      "6.921956587863715e-06\n"
     ]
    },
    {
     "data": {
      "text/html": [
       "<div>\n",
       "<style scoped>\n",
       "    .dataframe tbody tr th:only-of-type {\n",
       "        vertical-align: middle;\n",
       "    }\n",
       "\n",
       "    .dataframe tbody tr th {\n",
       "        vertical-align: top;\n",
       "    }\n",
       "\n",
       "    .dataframe thead th {\n",
       "        text-align: right;\n",
       "    }\n",
       "</style>\n",
       "<table border=\"1\" class=\"dataframe\">\n",
       "  <thead>\n",
       "    <tr style=\"text-align: right;\">\n",
       "      <th></th>\n",
       "      <th>filename</th>\n",
       "      <th>Density g/cm3</th>\n",
       "      <th>σ Density g/cm3</th>\n",
       "      <th>σ Density g/cm3 (from Ne+peakfit)</th>\n",
       "      <th>σ Density g/cm3 (from densimeter)</th>\n",
       "      <th>Corrected_Splitting</th>\n",
       "      <th>Corrected_Splitting_σ</th>\n",
       "      <th>Corrected_Splitting_σ_Ne</th>\n",
       "      <th>Corrected_Splitting_σ_peak_fit</th>\n",
       "      <th>power (mW)</th>\n",
       "      <th>...</th>\n",
       "      <th>sec since midnight</th>\n",
       "      <th>Peak_Cent_Carb</th>\n",
       "      <th>Peak_Area_Carb</th>\n",
       "      <th>Peak_Height_Carb</th>\n",
       "      <th>Model_name</th>\n",
       "      <th>Carb_Diad_Ratio</th>\n",
       "      <th>time</th>\n",
       "      <th>preferred_values</th>\n",
       "      <th>lower_values</th>\n",
       "      <th>upper_values</th>\n",
       "    </tr>\n",
       "  </thead>\n",
       "  <tbody>\n",
       "    <tr>\n",
       "      <th>0</th>\n",
       "      <td>186-11-111-A</td>\n",
       "      <td>0.569704</td>\n",
       "      <td>0.004719</td>\n",
       "      <td>0.004083</td>\n",
       "      <td>0.002365</td>\n",
       "      <td>104.082894</td>\n",
       "      <td>0.008513</td>\n",
       "      <td>0.000704</td>\n",
       "      <td>0.008501</td>\n",
       "      <td>5.997</td>\n",
       "      <td>...</td>\n",
       "      <td>45569.0</td>\n",
       "      <td>NaN</td>\n",
       "      <td>NaN</td>\n",
       "      <td>NaN</td>\n",
       "      <td>NaN</td>\n",
       "      <td>NaN</td>\n",
       "      <td>45569.0</td>\n",
       "      <td>0.997934</td>\n",
       "      <td>0.997927</td>\n",
       "      <td>0.997941</td>\n",
       "    </tr>\n",
       "    <tr>\n",
       "      <th>1</th>\n",
       "      <td>186-11-111-B</td>\n",
       "      <td>0.582668</td>\n",
       "      <td>0.003056</td>\n",
       "      <td>0.001932</td>\n",
       "      <td>0.002367</td>\n",
       "      <td>104.109835</td>\n",
       "      <td>0.004002</td>\n",
       "      <td>0.000702</td>\n",
       "      <td>0.003948</td>\n",
       "      <td>6.011</td>\n",
       "      <td>...</td>\n",
       "      <td>45987.0</td>\n",
       "      <td>NaN</td>\n",
       "      <td>NaN</td>\n",
       "      <td>NaN</td>\n",
       "      <td>NaN</td>\n",
       "      <td>NaN</td>\n",
       "      <td>45987.0</td>\n",
       "      <td>0.997934</td>\n",
       "      <td>0.997927</td>\n",
       "      <td>0.997940</td>\n",
       "    </tr>\n",
       "    <tr>\n",
       "      <th>2</th>\n",
       "      <td>186-11-111-C</td>\n",
       "      <td>0.565958</td>\n",
       "      <td>0.004747</td>\n",
       "      <td>0.004116</td>\n",
       "      <td>0.002364</td>\n",
       "      <td>104.075076</td>\n",
       "      <td>0.008597</td>\n",
       "      <td>0.000701</td>\n",
       "      <td>0.008586</td>\n",
       "      <td>6.036</td>\n",
       "      <td>...</td>\n",
       "      <td>46309.0</td>\n",
       "      <td>NaN</td>\n",
       "      <td>NaN</td>\n",
       "      <td>NaN</td>\n",
       "      <td>NaN</td>\n",
       "      <td>NaN</td>\n",
       "      <td>46309.0</td>\n",
       "      <td>0.997933</td>\n",
       "      <td>0.997927</td>\n",
       "      <td>0.997940</td>\n",
       "    </tr>\n",
       "    <tr>\n",
       "      <th>3</th>\n",
       "      <td>186-11-111-D</td>\n",
       "      <td>0.588655</td>\n",
       "      <td>0.003061</td>\n",
       "      <td>0.001939</td>\n",
       "      <td>0.002368</td>\n",
       "      <td>104.122219</td>\n",
       "      <td>0.004005</td>\n",
       "      <td>0.000700</td>\n",
       "      <td>0.003951</td>\n",
       "      <td>6.050</td>\n",
       "      <td>...</td>\n",
       "      <td>46613.0</td>\n",
       "      <td>NaN</td>\n",
       "      <td>NaN</td>\n",
       "      <td>NaN</td>\n",
       "      <td>NaN</td>\n",
       "      <td>NaN</td>\n",
       "      <td>46613.0</td>\n",
       "      <td>0.997933</td>\n",
       "      <td>0.997926</td>\n",
       "      <td>0.997940</td>\n",
       "    </tr>\n",
       "    <tr>\n",
       "      <th>4</th>\n",
       "      <td>186-11-111-E</td>\n",
       "      <td>0.558858</td>\n",
       "      <td>0.002891</td>\n",
       "      <td>0.001665</td>\n",
       "      <td>0.002363</td>\n",
       "      <td>104.060221</td>\n",
       "      <td>0.003489</td>\n",
       "      <td>0.000699</td>\n",
       "      <td>0.003426</td>\n",
       "      <td>6.052</td>\n",
       "      <td>...</td>\n",
       "      <td>46992.0</td>\n",
       "      <td>NaN</td>\n",
       "      <td>NaN</td>\n",
       "      <td>NaN</td>\n",
       "      <td>NaN</td>\n",
       "      <td>NaN</td>\n",
       "      <td>46992.0</td>\n",
       "      <td>0.997933</td>\n",
       "      <td>0.997926</td>\n",
       "      <td>0.997939</td>\n",
       "    </tr>\n",
       "  </tbody>\n",
       "</table>\n",
       "<p>5 rows × 91 columns</p>\n",
       "</div>"
      ],
      "text/plain": [
       "       filename  Density g/cm3  σ Density g/cm3  \\\n",
       "0  186-11-111-A       0.569704         0.004719   \n",
       "1  186-11-111-B       0.582668         0.003056   \n",
       "2  186-11-111-C       0.565958         0.004747   \n",
       "3  186-11-111-D       0.588655         0.003061   \n",
       "4  186-11-111-E       0.558858         0.002891   \n",
       "\n",
       "   σ Density g/cm3 (from Ne+peakfit)  σ Density g/cm3 (from densimeter)  \\\n",
       "0                           0.004083                           0.002365   \n",
       "1                           0.001932                           0.002367   \n",
       "2                           0.004116                           0.002364   \n",
       "3                           0.001939                           0.002368   \n",
       "4                           0.001665                           0.002363   \n",
       "\n",
       "   Corrected_Splitting  Corrected_Splitting_σ  Corrected_Splitting_σ_Ne  \\\n",
       "0           104.082894               0.008513                  0.000704   \n",
       "1           104.109835               0.004002                  0.000702   \n",
       "2           104.075076               0.008597                  0.000701   \n",
       "3           104.122219               0.004005                  0.000700   \n",
       "4           104.060221               0.003489                  0.000699   \n",
       "\n",
       "   Corrected_Splitting_σ_peak_fit  power (mW)  ...  sec since midnight  \\\n",
       "0                        0.008501       5.997  ...             45569.0   \n",
       "1                        0.003948       6.011  ...             45987.0   \n",
       "2                        0.008586       6.036  ...             46309.0   \n",
       "3                        0.003951       6.050  ...             46613.0   \n",
       "4                        0.003426       6.052  ...             46992.0   \n",
       "\n",
       "   Peak_Cent_Carb  Peak_Area_Carb Peak_Height_Carb Model_name  \\\n",
       "0             NaN             NaN              NaN        NaN   \n",
       "1             NaN             NaN              NaN        NaN   \n",
       "2             NaN             NaN              NaN        NaN   \n",
       "3             NaN             NaN              NaN        NaN   \n",
       "4             NaN             NaN              NaN        NaN   \n",
       "\n",
       "   Carb_Diad_Ratio     time  preferred_values  lower_values  upper_values  \n",
       "0              NaN  45569.0          0.997934      0.997927      0.997941  \n",
       "1              NaN  45987.0          0.997934      0.997927      0.997940  \n",
       "2              NaN  46309.0          0.997933      0.997927      0.997940  \n",
       "3              NaN  46613.0          0.997933      0.997926      0.997940  \n",
       "4              NaN  46992.0          0.997933      0.997926      0.997939  \n",
       "\n",
       "[5 rows x 91 columns]"
      ]
     },
     "execution_count": 13,
     "metadata": {},
     "output_type": "execute_result"
    }
   ],
   "source": [
    "df=pf.calculate_density_ucb(df_combo=df_combo_sec_phase,\n",
    "  Ne_pickle_str='Neon_corr_model.pkl',  temp='SupCrit', CI_split=0.67, CI_neon=0.67)\n",
    "df.head()"
   ]
  },
  {
   "cell_type": "code",
   "execution_count": 14,
   "id": "904175da",
   "metadata": {},
   "outputs": [
    {
     "name": "stdout",
     "output_type": "stream",
     "text": [
      "6.921956587863715e-06\n"
     ]
    },
    {
     "data": {
      "text/html": [
       "<div>\n",
       "<style scoped>\n",
       "    .dataframe tbody tr th:only-of-type {\n",
       "        vertical-align: middle;\n",
       "    }\n",
       "\n",
       "    .dataframe tbody tr th {\n",
       "        vertical-align: top;\n",
       "    }\n",
       "\n",
       "    .dataframe thead th {\n",
       "        text-align: right;\n",
       "    }\n",
       "</style>\n",
       "<table border=\"1\" class=\"dataframe\">\n",
       "  <thead>\n",
       "    <tr style=\"text-align: right;\">\n",
       "      <th></th>\n",
       "      <th>filename</th>\n",
       "      <th>Density g/cm3</th>\n",
       "      <th>σ Density g/cm3</th>\n",
       "      <th>σ Density g/cm3 (from Ne+peakfit)</th>\n",
       "      <th>σ Density g/cm3 (from densimeter)</th>\n",
       "      <th>Corrected_Splitting</th>\n",
       "      <th>Corrected_Splitting_σ</th>\n",
       "      <th>Corrected_Splitting_σ_Ne</th>\n",
       "      <th>Corrected_Splitting_σ_peak_fit</th>\n",
       "      <th>power (mW)</th>\n",
       "      <th>...</th>\n",
       "      <th>sec since midnight</th>\n",
       "      <th>Peak_Cent_Carb</th>\n",
       "      <th>Peak_Area_Carb</th>\n",
       "      <th>Peak_Height_Carb</th>\n",
       "      <th>Model_name</th>\n",
       "      <th>Carb_Diad_Ratio</th>\n",
       "      <th>time</th>\n",
       "      <th>preferred_values</th>\n",
       "      <th>lower_values</th>\n",
       "      <th>upper_values</th>\n",
       "    </tr>\n",
       "  </thead>\n",
       "  <tbody>\n",
       "    <tr>\n",
       "      <th>0</th>\n",
       "      <td>186-11-111-A</td>\n",
       "      <td>0.569704</td>\n",
       "      <td>0.004719</td>\n",
       "      <td>0.004083</td>\n",
       "      <td>0.002365</td>\n",
       "      <td>104.082894</td>\n",
       "      <td>0.008513</td>\n",
       "      <td>0.000704</td>\n",
       "      <td>0.008501</td>\n",
       "      <td>5.997</td>\n",
       "      <td>...</td>\n",
       "      <td>45569.0</td>\n",
       "      <td>NaN</td>\n",
       "      <td>NaN</td>\n",
       "      <td>NaN</td>\n",
       "      <td>NaN</td>\n",
       "      <td>NaN</td>\n",
       "      <td>45569.0</td>\n",
       "      <td>0.997934</td>\n",
       "      <td>0.997927</td>\n",
       "      <td>0.997941</td>\n",
       "    </tr>\n",
       "    <tr>\n",
       "      <th>1</th>\n",
       "      <td>186-11-111-B</td>\n",
       "      <td>0.582668</td>\n",
       "      <td>0.003056</td>\n",
       "      <td>0.001932</td>\n",
       "      <td>0.002367</td>\n",
       "      <td>104.109835</td>\n",
       "      <td>0.004002</td>\n",
       "      <td>0.000702</td>\n",
       "      <td>0.003948</td>\n",
       "      <td>6.011</td>\n",
       "      <td>...</td>\n",
       "      <td>45987.0</td>\n",
       "      <td>NaN</td>\n",
       "      <td>NaN</td>\n",
       "      <td>NaN</td>\n",
       "      <td>NaN</td>\n",
       "      <td>NaN</td>\n",
       "      <td>45987.0</td>\n",
       "      <td>0.997934</td>\n",
       "      <td>0.997927</td>\n",
       "      <td>0.997940</td>\n",
       "    </tr>\n",
       "    <tr>\n",
       "      <th>2</th>\n",
       "      <td>186-11-111-C</td>\n",
       "      <td>0.565958</td>\n",
       "      <td>0.004747</td>\n",
       "      <td>0.004116</td>\n",
       "      <td>0.002364</td>\n",
       "      <td>104.075076</td>\n",
       "      <td>0.008597</td>\n",
       "      <td>0.000701</td>\n",
       "      <td>0.008586</td>\n",
       "      <td>6.036</td>\n",
       "      <td>...</td>\n",
       "      <td>46309.0</td>\n",
       "      <td>NaN</td>\n",
       "      <td>NaN</td>\n",
       "      <td>NaN</td>\n",
       "      <td>NaN</td>\n",
       "      <td>NaN</td>\n",
       "      <td>46309.0</td>\n",
       "      <td>0.997933</td>\n",
       "      <td>0.997927</td>\n",
       "      <td>0.997940</td>\n",
       "    </tr>\n",
       "    <tr>\n",
       "      <th>3</th>\n",
       "      <td>186-11-111-D</td>\n",
       "      <td>0.588655</td>\n",
       "      <td>0.003061</td>\n",
       "      <td>0.001939</td>\n",
       "      <td>0.002368</td>\n",
       "      <td>104.122219</td>\n",
       "      <td>0.004005</td>\n",
       "      <td>0.000700</td>\n",
       "      <td>0.003951</td>\n",
       "      <td>6.050</td>\n",
       "      <td>...</td>\n",
       "      <td>46613.0</td>\n",
       "      <td>NaN</td>\n",
       "      <td>NaN</td>\n",
       "      <td>NaN</td>\n",
       "      <td>NaN</td>\n",
       "      <td>NaN</td>\n",
       "      <td>46613.0</td>\n",
       "      <td>0.997933</td>\n",
       "      <td>0.997926</td>\n",
       "      <td>0.997940</td>\n",
       "    </tr>\n",
       "    <tr>\n",
       "      <th>4</th>\n",
       "      <td>186-11-111-E</td>\n",
       "      <td>0.558858</td>\n",
       "      <td>0.002891</td>\n",
       "      <td>0.001665</td>\n",
       "      <td>0.002363</td>\n",
       "      <td>104.060221</td>\n",
       "      <td>0.003489</td>\n",
       "      <td>0.000699</td>\n",
       "      <td>0.003426</td>\n",
       "      <td>6.052</td>\n",
       "      <td>...</td>\n",
       "      <td>46992.0</td>\n",
       "      <td>NaN</td>\n",
       "      <td>NaN</td>\n",
       "      <td>NaN</td>\n",
       "      <td>NaN</td>\n",
       "      <td>NaN</td>\n",
       "      <td>46992.0</td>\n",
       "      <td>0.997933</td>\n",
       "      <td>0.997926</td>\n",
       "      <td>0.997939</td>\n",
       "    </tr>\n",
       "  </tbody>\n",
       "</table>\n",
       "<p>5 rows × 91 columns</p>\n",
       "</div>"
      ],
      "text/plain": [
       "       filename  Density g/cm3  σ Density g/cm3  \\\n",
       "0  186-11-111-A       0.569704         0.004719   \n",
       "1  186-11-111-B       0.582668         0.003056   \n",
       "2  186-11-111-C       0.565958         0.004747   \n",
       "3  186-11-111-D       0.588655         0.003061   \n",
       "4  186-11-111-E       0.558858         0.002891   \n",
       "\n",
       "   σ Density g/cm3 (from Ne+peakfit)  σ Density g/cm3 (from densimeter)  \\\n",
       "0                           0.004083                           0.002365   \n",
       "1                           0.001932                           0.002367   \n",
       "2                           0.004116                           0.002364   \n",
       "3                           0.001939                           0.002368   \n",
       "4                           0.001665                           0.002363   \n",
       "\n",
       "   Corrected_Splitting  Corrected_Splitting_σ  Corrected_Splitting_σ_Ne  \\\n",
       "0           104.082894               0.008513                  0.000704   \n",
       "1           104.109835               0.004002                  0.000702   \n",
       "2           104.075076               0.008597                  0.000701   \n",
       "3           104.122219               0.004005                  0.000700   \n",
       "4           104.060221               0.003489                  0.000699   \n",
       "\n",
       "   Corrected_Splitting_σ_peak_fit  power (mW)  ...  sec since midnight  \\\n",
       "0                        0.008501       5.997  ...             45569.0   \n",
       "1                        0.003948       6.011  ...             45987.0   \n",
       "2                        0.008586       6.036  ...             46309.0   \n",
       "3                        0.003951       6.050  ...             46613.0   \n",
       "4                        0.003426       6.052  ...             46992.0   \n",
       "\n",
       "   Peak_Cent_Carb  Peak_Area_Carb Peak_Height_Carb Model_name  \\\n",
       "0             NaN             NaN              NaN        NaN   \n",
       "1             NaN             NaN              NaN        NaN   \n",
       "2             NaN             NaN              NaN        NaN   \n",
       "3             NaN             NaN              NaN        NaN   \n",
       "4             NaN             NaN              NaN        NaN   \n",
       "\n",
       "   Carb_Diad_Ratio     time  preferred_values  lower_values  upper_values  \n",
       "0              NaN  45569.0          0.997934      0.997927      0.997941  \n",
       "1              NaN  45987.0          0.997934      0.997927      0.997940  \n",
       "2              NaN  46309.0          0.997933      0.997927      0.997940  \n",
       "3              NaN  46613.0          0.997933      0.997926      0.997940  \n",
       "4              NaN  46992.0          0.997933      0.997926      0.997939  \n",
       "\n",
       "[5 rows x 91 columns]"
      ]
     },
     "execution_count": 14,
     "metadata": {},
     "output_type": "execute_result"
    }
   ],
   "source": [
    "df=pf.calculate_density_ucb(df_combo=df_combo_sec_phase,\n",
    "  Ne_pickle_str='Neon_corr_model.pkl',  temp='SupCrit', CI_split=0.67, CI_neon=0.67)\n",
    "df.head()"
   ]
  },
  {
   "cell_type": "markdown",
   "id": "4fba3346",
   "metadata": {},
   "source": [
    "### This cell saves the merged together dataframe with the folder name and the date you fitted it"
   ]
  },
  {
   "cell_type": "code",
   "execution_count": 15,
   "id": "a290a591",
   "metadata": {
    "tags": []
   },
   "outputs": [
    {
     "name": "stdout",
     "output_type": "stream",
     "text": [
      "Raman_session_June 28, 2024_fitted_2024-07-08.xlsx\n"
     ]
    }
   ],
   "source": [
    "\n",
    "from datetime import date\n",
    "today = date.today()\n",
    "today_str = today.strftime(\"%Y-%m-%d\")\n",
    "sorted_df = df.sort_values('sec since midnight')\n",
    "date=meta['date'].iloc[0].replace('\\n', '')\n",
    "name='Raman_session_'+date+'_fitted_'+today_str+'.xlsx'\n",
    "print(name)\n",
    "sorted_df.to_excel(name)"
   ]
  },
  {
   "cell_type": "markdown",
   "id": "b34ba05e",
   "metadata": {},
   "source": [
    "## This helps visualize the errors on each spectra "
   ]
  },
  {
   "cell_type": "code",
   "execution_count": 16,
   "id": "8f67ccb8",
   "metadata": {
    "tags": []
   },
   "outputs": [
    {
     "data": {
      "image/png": "[encoded data removed]",
      "text/plain": [
       "<Figure size 1000x800 with 4 Axes>"
      ]
     },
     "metadata": {},
     "output_type": "display_data"
    }
   ],
   "source": [
    "\n",
    "fig, ((ax1, ax2), (ax3, ax4)) = plt.subplots(2, 2, figsize=(10,8))\n",
    "df=sorted_df.loc[(sorted_df['Density g/cm3']>0) & (sorted_df['Standard']!='Yes')]\n",
    "\n",
    "ax1.errorbar(df['Corrected_Splitting'], df['Density g/cm3'],\n",
    "xerr=df['Corrected_Splitting_σ'], yerr=df['σ Density g/cm3'],\n",
    "fmt='o', ecolor='grey', elinewidth=0.8, mfc='red', ms=6, mec='k', capsize=2)\n",
    "ax1.set_xlabel('Corrected Splitting (cm$^{-1}$)')\n",
    "ax1.set_ylabel('Density g/cm3')\n",
    "\n",
    "ax2.plot(df['Corrected_Splitting'], \n",
    "100*df['Corrected_Splitting_σ_Ne']/(df['Corrected_Splitting_σ_Ne']+df['Corrected_Splitting_σ_peak_fit']),\n",
    " 'ok', mfc='orange')\n",
    "ax2.set_ylabel('% of splitting error from Neon Correction')\n",
    "ax2.set_xlabel('Corrected Splitting (cm$^{-1}$)')\n",
    "ax3.plot(df['Density g/cm3'], 100*df['σ Density g/cm3 (from Ne+peakfit)']/df['Density g/cm3'], \n",
    "'ok', mfc='cyan', ms=5, label='Error: Ne + pk fit')\n",
    "\n",
    "\n",
    "ax3.plot(df['Density g/cm3'], 100*df['σ Density g/cm3 (from densimeter)']/df['Density g/cm3'], \n",
    "'ok', mfc='blue', ms=5, label='Error: Densimeter')\n",
    "\n",
    "ax3.plot(df['Density g/cm3'], 100*df['σ Density g/cm3']/df['Density g/cm3'], \n",
    "'ok', mfc='yellow', ms=5, label='Overall Error')\n",
    "ax3.set_ylabel('% error')\n",
    "ax3.set_xlabel('Density g/cm3')\n",
    "ax3.legend()\n",
    "\n",
    "ax4.plot(df['Density g/cm3'], df['σ Density g/cm3 (from densimeter)'], \n",
    "'ok', mfc='blue', ms=5, label='Error: Densimeter')\n",
    "ax4.plot(df['Density g/cm3'], df['σ Density g/cm3 (from Ne+peakfit)'], \n",
    "'ok', mfc='cyan', ms=5, label='Error: Splitting')\n",
    "ax4.plot(df['Density g/cm3'], df['σ Density g/cm3'], \n",
    "'ok', mfc='yellow', ms=5, label='Overall Error')\n",
    "ax4.set_ylabel('error (g/cm3)')\n",
    "ax4.set_xlabel('Density g/cm3')\n",
    "ax4.legend()\n",
    "\n",
    "fig.tight_layout()"
   ]
  },
  {
   "cell_type": "markdown",
   "id": "7e8d2ec6",
   "metadata": {},
   "source": [
    "## lets look at standards\n"
   ]
  },
  {
   "cell_type": "code",
   "execution_count": 17,
   "id": "342b137e",
   "metadata": {},
   "outputs": [
    {
     "data": {
      "text/plain": [
       "Text(0, 0.5, 'Density g/cm3')"
      ]
     },
     "execution_count": 17,
     "metadata": {},
     "output_type": "execute_result"
    },
    {
     "data": {
      "image/png": "[encoded data removed]",
      "text/plain": [
       "<Figure size 500x400 with 1 Axes>"
      ]
     },
     "metadata": {},
     "output_type": "display_data"
    }
   ],
   "source": [
    "fig, (ax1) = plt.subplots(1, 1, figsize=(5,4))\n",
    "df=sorted_df.loc[ sorted_df['Standard']=='Yes']\n",
    "ax1.errorbar(df['Corrected_Splitting'], df['Density g/cm3'],\n",
    "xerr=df['Corrected_Splitting_σ'], yerr=df['σ Density g/cm3'],\n",
    "fmt='o', ecolor='grey', elinewidth=0.8, mfc='red', ms=6, mec='k', capsize=2)\n",
    "ax1.set_xlabel('Corrected Splitting (cm$^{-1}$)')\n",
    "ax1.set_ylabel('Density g/cm3')"
   ]
  },
  {
   "cell_type": "code",
   "execution_count": null,
   "id": "d8be90ee",
   "metadata": {},
   "outputs": [],
   "source": [
    "\n"
   ]
  },
  {
   "cell_type": "code",
   "execution_count": 18,
   "id": "cfea5861",
   "metadata": {},
   "outputs": [],
   "source": [
    "df.to_clipboard(excel=True,index=False)"
   ]
  },
  {
   "cell_type": "code",
   "execution_count": null,
   "id": "a2ad57d7",
   "metadata": {},
   "outputs": [],
   "source": []
  },
  {
   "cell_type": "markdown",
   "id": "3f9497d4",
   "metadata": {},
   "source": [
    "## If you were analysing fluid inclusions, lets calculate their pressures\n",
    "- This bit isn't valid for melt inclusion vapour bubbles. "
   ]
  },
  {
   "cell_type": "code",
   "execution_count": 19,
   "id": "6954ac35",
   "metadata": {
    "tags": []
   },
   "outputs": [
    {
     "data": {
      "text/plain": [
       "Text(0, 0.5, '# of FI')"
      ]
     },
     "execution_count": 19,
     "metadata": {},
     "output_type": "execute_result"
    },
    {
     "data": {
      "image/png": "[encoded data removed]",
      "text/plain": [
       "<Figure size 1000x500 with 2 Axes>"
      ]
     },
     "metadata": {},
     "output_type": "display_data"
    }
   ],
   "source": [
    "# Calculate pressure with a temperature estimate\n",
    "Temp_C=1150\n",
    "df=sorted_df.loc[(sorted_df['Density g/cm3']>0) & (sorted_df['Standard']!='Yes')]\n",
    "\n",
    "Pressure_SW96=pf.calculate_P_for_rho_T(T_K=Temp_C+273.15,\n",
    "                CO2_dens_gcm3=df['Density g/cm3'],\n",
    "                 EOS='SW96')\n",
    "# Calculate depth from a crustal density assumption\n",
    "Depth=pf.convert_pressure_to_depth(P_kbar=Pressure_SW96['P_kbar'], \n",
    "                crust_dens_kgm3=2300)\n",
    "\n",
    "fig, (ax1, ax2) = plt.subplots(1, 2, figsize=(10,5))\n",
    "ax1.hist(Pressure_SW96['P_kbar'], ec='k', fc='cyan', bins=10)\n",
    "ax1.plot(Pressure_SW96['P_kbar'], Pressure_SW96['P_kbar']*0+5, 'xk')\n",
    "ax2.plot(Depth, Pressure_SW96['P_kbar']*0+5, 'xk')\n",
    "ax2.hist(Depth, ec='k', fc='white', bins=10)\n",
    "ax1.set_xlabel('P kbar')\n",
    "ax2.set_xlabel('Depth (km)')\n",
    "ax1.set_ylabel('# of FI')"
   ]
  },
  {
   "cell_type": "code",
   "execution_count": null,
   "id": "32fcbefc",
   "metadata": {},
   "outputs": [],
   "source": []
  }
 ],
 "metadata": {
  "kernelspec": {
   "display_name": "Python 3 (ipykernel)",
   "language": "python",
   "name": "python3"
  },
  "language_info": {
   "codemirror_mode": {
    "name": "ipython",
    "version": 3
   },
   "file_extension": ".py",
   "mimetype": "text/x-python",
   "name": "python",
   "nbconvert_exporter": "python",
   "pygments_lexer": "ipython3",
   "version": "3.11.5"
  }
 },
 "nbformat": 4,
 "nbformat_minor": 5
}
