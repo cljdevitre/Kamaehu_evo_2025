{
 "cells": [
  {
   "cell_type": "code",
   "execution_count": 9,
   "metadata": {},
   "outputs": [
    {
     "name": "stdout",
     "output_type": "stream",
     "text": [
      "Melting point of CO2-He mixture: -58.86109862246036 C\n"
     ]
    }
   ],
   "source": [
    "import CoolProp.CoolProp as CP\n",
    "\n",
    "# Create a simple linear mixing rule for the Helium and Xenon pair\n",
    "\n",
    "# CP.apply_simple_mixing_rule('Helium', 'CO2', 'linear')\n",
    "\n",
    "# # Now evaluate the 50/50 mixture density at 300K and atmospheric pressure\n",
    "\n",
    "T_melt_mixture = CP.PropsSI('T', 'P', 5.17964e5, 'Q', 1, 'Helium[0.1]&CarbonDioxide[0.99999]')\n",
    "print(\"Melting point of CO2-He mixture:\", T_melt_mixture-273.15, \"C\")"
   ]
  }
 ],
 "metadata": {
  "kernelspec": {
   "display_name": "py3115",
   "language": "python",
   "name": "python3"
  },
  "language_info": {
   "codemirror_mode": {
    "name": "ipython",
    "version": 3
   },
   "file_extension": ".py",
   "mimetype": "text/x-python",
   "name": "python",
   "nbconvert_exporter": "python",
   "pygments_lexer": "ipython3",
   "version": "3.11.5"
  }
 },
 "nbformat": 4,
 "nbformat_minor": 2
}
